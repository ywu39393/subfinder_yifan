{
 "cells": [
  {
   "cell_type": "code",
   "execution_count": 1,
   "id": "68c21425-ab43-4642-95ee-b8a42cdb4677",
   "metadata": {},
   "outputs": [],
   "source": [
    "import pandas as pd\n",
    "import os"
   ]
  },
  {
   "cell_type": "code",
   "execution_count": 2,
   "id": "69f0c292-0140-4dee-b5c3-d3411c178739",
   "metadata": {},
   "outputs": [],
   "source": [
    "folder_path = \"Train_data\"\n",
    "# List to hold DataFrames\n",
    "dataframes = []\n",
    "# Loop through all files in the folder\n",
    "for filename in os.listdir(folder_path):\n",
    "    if filename.endswith(\".csv\"):\n",
    "        file_path = os.path.join(folder_path, filename)\n",
    "        df = pd.read_csv(file_path)\n",
    "        dataframes.append(df)\n",
    "\n",
    "combined_data = pd.concat(dataframes, ignore_index=True)\n",
    "combined_data.to_csv('combined_train_data.csv', index=False)\n",
    "file_path = os.path.join('combined_train_data.csv')\n",
    "data = pd.read_csv(file_path)\n"
   ]
  },
  {
   "cell_type": "code",
   "execution_count": 3,
   "id": "b49bd131-cd16-48a7-9d96-bcde152e3044",
   "metadata": {},
   "outputs": [],
   "source": [
    "select_clss = ['alginate', 'beta-glucan', 'cellulose', 'xylan']\n",
    "new_data = data[data['high_level_substr'].isin(select_clss)]"
   ]
  },
  {
   "cell_type": "code",
   "execution_count": 4,
   "id": "25e9d6d4-a2e0-42c1-bc3b-83ff4cb6685b",
   "metadata": {},
   "outputs": [
    {
     "data": {
      "text/plain": [
       "xylan          35\n",
       "alginate       21\n",
       "beta-glucan    21\n",
       "cellulose      16\n",
       "Name: high_level_substr, dtype: int64"
      ]
     },
     "execution_count": 4,
     "metadata": {},
     "output_type": "execute_result"
    }
   ],
   "source": [
    "new_data['high_level_substr'].value_counts()"
   ]
  },
  {
   "cell_type": "code",
   "execution_count": 9,
   "id": "a837e8dc-51df-4aed-9f9e-8730344acc30",
   "metadata": {},
   "outputs": [
    {
     "name": "stdout",
     "output_type": "stream",
     "text": [
      "Train data shape: (74, 2)\n",
      "Test data shape: (19, 2)\n"
     ]
    }
   ],
   "source": [
    "from sklearn.model_selection import train_test_split\n",
    "\n",
    "# Set the seed for reproducibility\n",
    "# random_seed = 42\n",
    "random_seed = 22\n",
    "\n",
    "# Perform the stratified split\n",
    "train_data, test_data = train_test_split(\n",
    "    new_data,\n",
    "    test_size=0.2,  \n",
    "    stratify=new_data['high_level_substr'],  \n",
    "    random_state=random_seed\n",
    ")\n",
    "\n",
    "# Display the resulting splits\n",
    "print(\"Train data shape:\", train_data.shape)\n",
    "print(\"Test data shape:\", test_data.shape)"
   ]
  },
  {
   "cell_type": "code",
   "execution_count": 10,
   "id": "509b1f89-8f63-4764-854a-bacc205a8449",
   "metadata": {},
   "outputs": [],
   "source": [
    "train_data.to_csv('train_data_IFDP.csv')\n",
    "test_data.to_csv('test_data_IFDP.csv')"
   ]
  }
 ],
 "metadata": {
  "kernelspec": {
   "display_name": "TensorFlow 2.9 (py39)",
   "language": "python",
   "name": "tensorflow-2.9-py39"
  },
  "language_info": {
   "codemirror_mode": {
    "name": "ipython",
    "version": 3
   },
   "file_extension": ".py",
   "mimetype": "text/x-python",
   "name": "python",
   "nbconvert_exporter": "python",
   "pygments_lexer": "ipython3",
   "version": "3.9.13"
  }
 },
 "nbformat": 4,
 "nbformat_minor": 5
}
