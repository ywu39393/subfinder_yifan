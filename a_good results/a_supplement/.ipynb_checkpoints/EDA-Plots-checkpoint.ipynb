{
 "cells": [
  {
   "cell_type": "code",
   "execution_count": 38,
   "id": "36ba083f",
   "metadata": {},
   "outputs": [],
   "source": [
    "# set the directory to where the data is\n",
    "import os\n",
    "\n",
    "# os.chdir(r\"D:\\Gene_Project\")"
   ]
  },
  {
   "cell_type": "code",
   "execution_count": 39,
   "id": "4459ac04",
   "metadata": {},
   "outputs": [
    {
     "data": {
      "text/plain": [
       "'D:\\\\subFinder\\\\Usage_Scripts'"
      ]
     },
     "execution_count": 39,
     "metadata": {},
     "output_type": "execute_result"
    }
   ],
   "source": [
    "os.getcwd()"
   ]
  },
  {
   "cell_type": "code",
   "execution_count": 40,
   "id": "107d9e3e",
   "metadata": {},
   "outputs": [],
   "source": [
    "import warnings\n",
    "warnings.filterwarnings('ignore')"
   ]
  },
  {
   "cell_type": "code",
   "execution_count": 41,
   "id": "90373575",
   "metadata": {},
   "outputs": [],
   "source": [
    "# pandas for dealing with the data\n",
    "import pandas as pd"
   ]
  },
  {
   "cell_type": "code",
   "execution_count": 42,
   "id": "ecd95609",
   "metadata": {},
   "outputs": [],
   "source": [
    "import seaborn as sns"
   ]
  },
  {
   "cell_type": "code",
   "execution_count": 43,
   "id": "83e5d80c",
   "metadata": {},
   "outputs": [],
   "source": [
    "# pd.set_option('display.max_columns', None)"
   ]
  },
  {
   "cell_type": "code",
   "execution_count": 44,
   "id": "c773f914",
   "metadata": {},
   "outputs": [],
   "source": [
    "data = pd.read_csv(r'../Data/Supervised_Sequences/pul_seq_low_high_substr_year_degrad.tsv', sep = \"\\t\")"
   ]
  },
  {
   "cell_type": "code",
   "execution_count": 45,
   "id": "c84b87c8",
   "metadata": {},
   "outputs": [],
   "source": [
    "# degrad_synth.head()"
   ]
  },
  {
   "cell_type": "code",
   "execution_count": 46,
   "id": "34bca741",
   "metadata": {},
   "outputs": [
    {
     "data": {
      "text/plain": [
       "(654, 6)"
      ]
     },
     "execution_count": 46,
     "metadata": {},
     "output_type": "execute_result"
    }
   ],
   "source": [
    "data.shape"
   ]
  },
  {
   "cell_type": "code",
   "execution_count": 47,
   "id": "37c6f78a",
   "metadata": {},
   "outputs": [],
   "source": [
    "# load the data - new data that was provided\n",
    "# data = pd.read_csv(r\"pul_seq_low_high_substr_year_corrected.csv\")"
   ]
  },
  {
   "cell_type": "code",
   "execution_count": 48,
   "id": "39a6b30a",
   "metadata": {},
   "outputs": [
    {
     "data": {
      "text/html": [
       "<div>\n",
       "<style scoped>\n",
       "    .dataframe tbody tr th:only-of-type {\n",
       "        vertical-align: middle;\n",
       "    }\n",
       "\n",
       "    .dataframe tbody tr th {\n",
       "        vertical-align: top;\n",
       "    }\n",
       "\n",
       "    .dataframe thead th {\n",
       "        text-align: right;\n",
       "    }\n",
       "</style>\n",
       "<table border=\"1\" class=\"dataframe\">\n",
       "  <thead>\n",
       "    <tr style=\"text-align: right;\">\n",
       "      <th></th>\n",
       "      <th>PULid</th>\n",
       "      <th>sig_gene_seq</th>\n",
       "      <th>low_level_substr</th>\n",
       "      <th>high_level_substr</th>\n",
       "      <th>Pub_year</th>\n",
       "      <th>degrad_biosyn</th>\n",
       "    </tr>\n",
       "  </thead>\n",
       "  <tbody>\n",
       "    <tr>\n",
       "      <th>0</th>\n",
       "      <td>PUL0001</td>\n",
       "      <td>GH1,8.A.49,CE2,GH130,GH130,3.A.1,3.A.1,SBP_bac...</td>\n",
       "      <td>beta-mannan</td>\n",
       "      <td>beta-mannan</td>\n",
       "      <td>2019</td>\n",
       "      <td>degradation</td>\n",
       "    </tr>\n",
       "    <tr>\n",
       "      <th>1</th>\n",
       "      <td>PUL0002</td>\n",
       "      <td>GH16</td>\n",
       "      <td>lichenan</td>\n",
       "      <td>beta-glucan</td>\n",
       "      <td>1996</td>\n",
       "      <td>degradation</td>\n",
       "    </tr>\n",
       "    <tr>\n",
       "      <th>2</th>\n",
       "      <td>PUL0003</td>\n",
       "      <td>GH30_8,GH43_16|CBM6</td>\n",
       "      <td>xylan</td>\n",
       "      <td>xylan</td>\n",
       "      <td>2016</td>\n",
       "      <td>degradation</td>\n",
       "    </tr>\n",
       "    <tr>\n",
       "      <th>3</th>\n",
       "      <td>PUL0004</td>\n",
       "      <td>4.A.1,GH1</td>\n",
       "      <td>glucose,cellobiose,maltose</td>\n",
       "      <td>multiple_substrates</td>\n",
       "      <td>2016</td>\n",
       "      <td>degradation</td>\n",
       "    </tr>\n",
       "    <tr>\n",
       "      <th>4</th>\n",
       "      <td>PUL0005</td>\n",
       "      <td>GH94,GH3</td>\n",
       "      <td>beta-glucan,sophorose,laminaribiose</td>\n",
       "      <td>multiple_substrates</td>\n",
       "      <td>2016</td>\n",
       "      <td>degradation</td>\n",
       "    </tr>\n",
       "  </tbody>\n",
       "</table>\n",
       "</div>"
      ],
      "text/plain": [
       "     PULid                                       sig_gene_seq  \\\n",
       "0  PUL0001  GH1,8.A.49,CE2,GH130,GH130,3.A.1,3.A.1,SBP_bac...   \n",
       "1  PUL0002                                               GH16   \n",
       "2  PUL0003                                GH30_8,GH43_16|CBM6   \n",
       "3  PUL0004                                          4.A.1,GH1   \n",
       "4  PUL0005                                           GH94,GH3   \n",
       "\n",
       "                      low_level_substr    high_level_substr Pub_year  \\\n",
       "0                          beta-mannan          beta-mannan     2019   \n",
       "1                             lichenan         beta-glucan      1996   \n",
       "2                                xylan                xylan     2016   \n",
       "3           glucose,cellobiose,maltose  multiple_substrates     2016   \n",
       "4  beta-glucan,sophorose,laminaribiose  multiple_substrates     2016   \n",
       "\n",
       "  degrad_biosyn  \n",
       "0   degradation  \n",
       "1   degradation  \n",
       "2   degradation  \n",
       "3   degradation  \n",
       "4   degradation  "
      ]
     },
     "execution_count": 48,
     "metadata": {},
     "output_type": "execute_result"
    }
   ],
   "source": [
    "data.head()"
   ]
  },
  {
   "cell_type": "code",
   "execution_count": 49,
   "id": "e26f3179",
   "metadata": {},
   "outputs": [],
   "source": [
    "data[\"high_level_substr\"] = data[\"high_level_substr\"].str.strip()"
   ]
  },
  {
   "cell_type": "code",
   "execution_count": 50,
   "id": "77646744",
   "metadata": {},
   "outputs": [],
   "source": [
    "data[\"low_level_substr\"] = data[\"low_level_substr\"].str.strip()"
   ]
  },
  {
   "cell_type": "code",
   "execution_count": 51,
   "id": "3684c4c5",
   "metadata": {},
   "outputs": [],
   "source": [
    "data[\"degrad_biosyn\"] = data[\"degrad_biosyn\"].str.strip()"
   ]
  },
  {
   "cell_type": "code",
   "execution_count": 52,
   "id": "6e3a819f",
   "metadata": {},
   "outputs": [],
   "source": [
    "data[\"high_level_substr\"] = [substr + \"_\"  + data[\"degrad_biosyn\"][i] if substr in [\"capsule polysaccharide\", \"O-antigen\", \"exopolysaccharide\"] else substr for i, substr in enumerate(data[\"high_level_substr\"])]"
   ]
  },
  {
   "cell_type": "code",
   "execution_count": 53,
   "id": "c4229b87",
   "metadata": {},
   "outputs": [
    {
     "data": {
      "text/plain": [
       "multiple_substrates                    139\n",
       "mono/di/trisaccharide                   78\n",
       "capsule polysaccharide_biosynthesis     49\n",
       "algal glycans                           40\n",
       "xylan                                   38\n",
       "pectin                                  38\n",
       "galactan                                36\n",
       "O-antigen_biosynthesis                  36\n",
       "alpha-glucan                            23\n",
       "beta-mannan                             19\n",
       "cellulose                               18\n",
       "chitin                                  15\n",
       "glycosaminoglycan                       14\n",
       "beta-glucan                             13\n",
       "N-glycan                                12\n",
       "capsule polysaccharide_degradation      11\n",
       "-                                        9\n",
       "alpha-mannan                             8\n",
       "fructan                                  8\n",
       "xyloglucan                               7\n",
       "host glycan                              7\n",
       "glycoprotein                             6\n",
       "exopolysaccharide_biosynthesis           6\n",
       "plant polysaccharide                     6\n",
       "hemicellulose                            5\n",
       "human milk oligosaccharide               5\n",
       "exopolysaccharide_degradation            4\n",
       "O-glycan                                 3\n",
       "O-antigen_degradation                    1\n",
       "Name: high_level_substr, dtype: int64"
      ]
     },
     "execution_count": 53,
     "metadata": {},
     "output_type": "execute_result"
    }
   ],
   "source": [
    "data[\"high_level_substr\"].value_counts()"
   ]
  },
  {
   "cell_type": "code",
   "execution_count": 54,
   "id": "37d464a3",
   "metadata": {},
   "outputs": [],
   "source": [
    "mapping_df_grouped = pd.DataFrame(data.groupby(\"high_level_substr\")[\"degrad_biosyn\"].value_counts())\n",
    "\n",
    "mapping_df_grouped.columns = [\"number_of_sequences\"]"
   ]
  },
  {
   "cell_type": "code",
   "execution_count": 55,
   "id": "03bfecfd",
   "metadata": {},
   "outputs": [
    {
     "data": {
      "text/html": [
       "<div>\n",
       "<style scoped>\n",
       "    .dataframe tbody tr th:only-of-type {\n",
       "        vertical-align: middle;\n",
       "    }\n",
       "\n",
       "    .dataframe tbody tr th {\n",
       "        vertical-align: top;\n",
       "    }\n",
       "\n",
       "    .dataframe thead th {\n",
       "        text-align: right;\n",
       "    }\n",
       "</style>\n",
       "<table border=\"1\" class=\"dataframe\">\n",
       "  <thead>\n",
       "    <tr style=\"text-align: right;\">\n",
       "      <th></th>\n",
       "      <th></th>\n",
       "      <th>number_of_sequences</th>\n",
       "    </tr>\n",
       "    <tr>\n",
       "      <th>high_level_substr</th>\n",
       "      <th>degrad_biosyn</th>\n",
       "      <th></th>\n",
       "    </tr>\n",
       "  </thead>\n",
       "  <tbody>\n",
       "    <tr>\n",
       "      <th rowspan=\"2\" valign=\"top\">-</th>\n",
       "      <th>degradation</th>\n",
       "      <td>6</td>\n",
       "    </tr>\n",
       "    <tr>\n",
       "      <th>biosynthesis</th>\n",
       "      <td>3</td>\n",
       "    </tr>\n",
       "    <tr>\n",
       "      <th>N-glycan</th>\n",
       "      <th>degradation</th>\n",
       "      <td>12</td>\n",
       "    </tr>\n",
       "    <tr>\n",
       "      <th>O-antigen_biosynthesis</th>\n",
       "      <th>biosynthesis</th>\n",
       "      <td>36</td>\n",
       "    </tr>\n",
       "    <tr>\n",
       "      <th>O-antigen_degradation</th>\n",
       "      <th>degradation</th>\n",
       "      <td>1</td>\n",
       "    </tr>\n",
       "    <tr>\n",
       "      <th>O-glycan</th>\n",
       "      <th>biosynthesis</th>\n",
       "      <td>3</td>\n",
       "    </tr>\n",
       "    <tr>\n",
       "      <th rowspan=\"2\" valign=\"top\">algal glycans</th>\n",
       "      <th>degradation</th>\n",
       "      <td>38</td>\n",
       "    </tr>\n",
       "    <tr>\n",
       "      <th>biosynthesis</th>\n",
       "      <td>2</td>\n",
       "    </tr>\n",
       "    <tr>\n",
       "      <th rowspan=\"2\" valign=\"top\">alpha-glucan</th>\n",
       "      <th>degradation</th>\n",
       "      <td>20</td>\n",
       "    </tr>\n",
       "    <tr>\n",
       "      <th>biosynthesis</th>\n",
       "      <td>3</td>\n",
       "    </tr>\n",
       "    <tr>\n",
       "      <th>alpha-mannan</th>\n",
       "      <th>degradation</th>\n",
       "      <td>8</td>\n",
       "    </tr>\n",
       "    <tr>\n",
       "      <th>beta-glucan</th>\n",
       "      <th>degradation</th>\n",
       "      <td>13</td>\n",
       "    </tr>\n",
       "    <tr>\n",
       "      <th>beta-mannan</th>\n",
       "      <th>degradation</th>\n",
       "      <td>19</td>\n",
       "    </tr>\n",
       "    <tr>\n",
       "      <th>capsule polysaccharide_biosynthesis</th>\n",
       "      <th>biosynthesis</th>\n",
       "      <td>49</td>\n",
       "    </tr>\n",
       "    <tr>\n",
       "      <th>capsule polysaccharide_degradation</th>\n",
       "      <th>degradation</th>\n",
       "      <td>11</td>\n",
       "    </tr>\n",
       "    <tr>\n",
       "      <th>cellulose</th>\n",
       "      <th>degradation</th>\n",
       "      <td>18</td>\n",
       "    </tr>\n",
       "    <tr>\n",
       "      <th>chitin</th>\n",
       "      <th>degradation</th>\n",
       "      <td>15</td>\n",
       "    </tr>\n",
       "    <tr>\n",
       "      <th>exopolysaccharide_biosynthesis</th>\n",
       "      <th>biosynthesis</th>\n",
       "      <td>6</td>\n",
       "    </tr>\n",
       "    <tr>\n",
       "      <th>exopolysaccharide_degradation</th>\n",
       "      <th>degradation</th>\n",
       "      <td>4</td>\n",
       "    </tr>\n",
       "    <tr>\n",
       "      <th>fructan</th>\n",
       "      <th>degradation</th>\n",
       "      <td>8</td>\n",
       "    </tr>\n",
       "    <tr>\n",
       "      <th>galactan</th>\n",
       "      <th>degradation</th>\n",
       "      <td>36</td>\n",
       "    </tr>\n",
       "    <tr>\n",
       "      <th>glycoprotein</th>\n",
       "      <th>degradation</th>\n",
       "      <td>6</td>\n",
       "    </tr>\n",
       "    <tr>\n",
       "      <th>glycosaminoglycan</th>\n",
       "      <th>degradation</th>\n",
       "      <td>14</td>\n",
       "    </tr>\n",
       "    <tr>\n",
       "      <th>hemicellulose</th>\n",
       "      <th>degradation</th>\n",
       "      <td>5</td>\n",
       "    </tr>\n",
       "    <tr>\n",
       "      <th>host glycan</th>\n",
       "      <th>degradation</th>\n",
       "      <td>7</td>\n",
       "    </tr>\n",
       "    <tr>\n",
       "      <th>human milk oligosaccharide</th>\n",
       "      <th>degradation</th>\n",
       "      <td>5</td>\n",
       "    </tr>\n",
       "    <tr>\n",
       "      <th rowspan=\"2\" valign=\"top\">mono/di/trisaccharide</th>\n",
       "      <th>degradation</th>\n",
       "      <td>77</td>\n",
       "    </tr>\n",
       "    <tr>\n",
       "      <th>biosynthesis</th>\n",
       "      <td>1</td>\n",
       "    </tr>\n",
       "    <tr>\n",
       "      <th rowspan=\"2\" valign=\"top\">multiple_substrates</th>\n",
       "      <th>degradation</th>\n",
       "      <td>130</td>\n",
       "    </tr>\n",
       "    <tr>\n",
       "      <th>biosynthesis</th>\n",
       "      <td>9</td>\n",
       "    </tr>\n",
       "    <tr>\n",
       "      <th>pectin</th>\n",
       "      <th>degradation</th>\n",
       "      <td>38</td>\n",
       "    </tr>\n",
       "    <tr>\n",
       "      <th>plant polysaccharide</th>\n",
       "      <th>degradation</th>\n",
       "      <td>6</td>\n",
       "    </tr>\n",
       "    <tr>\n",
       "      <th>xylan</th>\n",
       "      <th>degradation</th>\n",
       "      <td>38</td>\n",
       "    </tr>\n",
       "    <tr>\n",
       "      <th>xyloglucan</th>\n",
       "      <th>degradation</th>\n",
       "      <td>7</td>\n",
       "    </tr>\n",
       "  </tbody>\n",
       "</table>\n",
       "</div>"
      ],
      "text/plain": [
       "                                                   number_of_sequences\n",
       "high_level_substr                   degrad_biosyn                     \n",
       "-                                   degradation                      6\n",
       "                                    biosynthesis                     3\n",
       "N-glycan                            degradation                     12\n",
       "O-antigen_biosynthesis              biosynthesis                    36\n",
       "O-antigen_degradation               degradation                      1\n",
       "O-glycan                            biosynthesis                     3\n",
       "algal glycans                       degradation                     38\n",
       "                                    biosynthesis                     2\n",
       "alpha-glucan                        degradation                     20\n",
       "                                    biosynthesis                     3\n",
       "alpha-mannan                        degradation                      8\n",
       "beta-glucan                         degradation                     13\n",
       "beta-mannan                         degradation                     19\n",
       "capsule polysaccharide_biosynthesis biosynthesis                    49\n",
       "capsule polysaccharide_degradation  degradation                     11\n",
       "cellulose                           degradation                     18\n",
       "chitin                              degradation                     15\n",
       "exopolysaccharide_biosynthesis      biosynthesis                     6\n",
       "exopolysaccharide_degradation       degradation                      4\n",
       "fructan                             degradation                      8\n",
       "galactan                            degradation                     36\n",
       "glycoprotein                        degradation                      6\n",
       "glycosaminoglycan                   degradation                     14\n",
       "hemicellulose                       degradation                      5\n",
       "host glycan                         degradation                      7\n",
       "human milk oligosaccharide          degradation                      5\n",
       "mono/di/trisaccharide               degradation                     77\n",
       "                                    biosynthesis                     1\n",
       "multiple_substrates                 degradation                    130\n",
       "                                    biosynthesis                     9\n",
       "pectin                              degradation                     38\n",
       "plant polysaccharide                degradation                      6\n",
       "xylan                               degradation                     38\n",
       "xyloglucan                          degradation                      7"
      ]
     },
     "execution_count": 55,
     "metadata": {},
     "output_type": "execute_result"
    }
   ],
   "source": [
    "mapping_df_grouped"
   ]
  },
  {
   "cell_type": "code",
   "execution_count": 56,
   "id": "8ca4e458",
   "metadata": {},
   "outputs": [],
   "source": [
    "data = data[~data[\"high_level_substr\"].isin([\"multiple_substrates\", \"mono/di/trisaccharide\", \"-\", \"human milk oligosaccharide\", \n",
    "                                            \"glycoprotein\", \"plant polysaccharide\", \"cellobiose\"])]"
   ]
  },
  {
   "cell_type": "code",
   "execution_count": 57,
   "id": "3c84ad27",
   "metadata": {},
   "outputs": [
    {
     "data": {
      "text/plain": [
       "(411, 6)"
      ]
     },
     "execution_count": 57,
     "metadata": {},
     "output_type": "execute_result"
    }
   ],
   "source": [
    "data.shape"
   ]
  },
  {
   "cell_type": "code",
   "execution_count": 58,
   "id": "a64fbc1b",
   "metadata": {},
   "outputs": [],
   "source": [
    "# data = data[~(data[\"degrad_biosyn\"] == \"biosynthesis\")]"
   ]
  },
  {
   "cell_type": "code",
   "execution_count": 59,
   "id": "06029c33",
   "metadata": {},
   "outputs": [
    {
     "data": {
      "text/plain": [
       "(411, 6)"
      ]
     },
     "execution_count": 59,
     "metadata": {},
     "output_type": "execute_result"
    }
   ],
   "source": [
    "data.shape"
   ]
  },
  {
   "cell_type": "code",
   "execution_count": 60,
   "id": "d40c6390",
   "metadata": {},
   "outputs": [],
   "source": [
    "# os.getcwd()"
   ]
  },
  {
   "cell_type": "code",
   "execution_count": 61,
   "id": "d5d09a90",
   "metadata": {},
   "outputs": [],
   "source": [
    "# read in the latest file\n",
    "latest_data = pd.read_excel(\"../Data/Supervised_Sequences/dbCAN-PUL.substrate.mapping (1).xls\", header = 1)"
   ]
  },
  {
   "cell_type": "code",
   "execution_count": 62,
   "id": "1b8e55e8",
   "metadata": {},
   "outputs": [
    {
     "data": {
      "text/html": [
       "<div>\n",
       "<style scoped>\n",
       "    .dataframe tbody tr th:only-of-type {\n",
       "        vertical-align: middle;\n",
       "    }\n",
       "\n",
       "    .dataframe tbody tr th {\n",
       "        vertical-align: top;\n",
       "    }\n",
       "\n",
       "    .dataframe thead th {\n",
       "        text-align: right;\n",
       "    }\n",
       "</style>\n",
       "<table border=\"1\" class=\"dataframe\">\n",
       "  <thead>\n",
       "    <tr style=\"text-align: right;\">\n",
       "      <th></th>\n",
       "      <th>PUL ID</th>\n",
       "      <th>PMID</th>\n",
       "      <th>updated_substrate (04/14/2023)</th>\n",
       "      <th>updated_substrate (09/01/2022)</th>\n",
       "      <th>curated_substrate (07/01/2022)</th>\n",
       "      <th>cazymes_predicted (run_dbcan)</th>\n",
       "      <th>Note</th>\n",
       "    </tr>\n",
       "  </thead>\n",
       "  <tbody>\n",
       "    <tr>\n",
       "      <th>0</th>\n",
       "      <td>PUL0027</td>\n",
       "      <td>10352233</td>\n",
       "      <td>alginate</td>\n",
       "      <td>alginate</td>\n",
       "      <td>alginate</td>\n",
       "      <td>PL5|PL5_1</td>\n",
       "      <td>NaN</td>\n",
       "    </tr>\n",
       "    <tr>\n",
       "      <th>1</th>\n",
       "      <td>PUL0051</td>\n",
       "      <td>29795267</td>\n",
       "      <td>alginate</td>\n",
       "      <td>alginate</td>\n",
       "      <td>alginate</td>\n",
       "      <td>PL6_1|PL6,PL17_2|PL17</td>\n",
       "      <td>NaN</td>\n",
       "    </tr>\n",
       "    <tr>\n",
       "      <th>2</th>\n",
       "      <td>PUL0052</td>\n",
       "      <td>29795267</td>\n",
       "      <td>alginate</td>\n",
       "      <td>alginate</td>\n",
       "      <td>alginate</td>\n",
       "      <td>PL6|PL6_1,PL17|PL17_2</td>\n",
       "      <td>NaN</td>\n",
       "    </tr>\n",
       "    <tr>\n",
       "      <th>3</th>\n",
       "      <td>PUL0053</td>\n",
       "      <td>29795267</td>\n",
       "      <td>alginate</td>\n",
       "      <td>alginate</td>\n",
       "      <td>alginate</td>\n",
       "      <td>PL6_1|PL6,PL17|PL17_2</td>\n",
       "      <td>NaN</td>\n",
       "    </tr>\n",
       "    <tr>\n",
       "      <th>4</th>\n",
       "      <td>PUL0054</td>\n",
       "      <td>29795267</td>\n",
       "      <td>alginate</td>\n",
       "      <td>alginate</td>\n",
       "      <td>alginate</td>\n",
       "      <td>PL6|PL6_1,PL17_2|PL17</td>\n",
       "      <td>NaN</td>\n",
       "    </tr>\n",
       "  </tbody>\n",
       "</table>\n",
       "</div>"
      ],
      "text/plain": [
       "    PUL ID      PMID updated_substrate (04/14/2023)  \\\n",
       "0  PUL0027  10352233                       alginate   \n",
       "1  PUL0051  29795267                       alginate   \n",
       "2  PUL0052  29795267                       alginate   \n",
       "3  PUL0053  29795267                       alginate   \n",
       "4  PUL0054  29795267                       alginate   \n",
       "\n",
       "  updated_substrate (09/01/2022) curated_substrate (07/01/2022)  \\\n",
       "0                       alginate                       alginate   \n",
       "1                       alginate                       alginate   \n",
       "2                       alginate                       alginate   \n",
       "3                       alginate                       alginate   \n",
       "4                       alginate                       alginate   \n",
       "\n",
       "  cazymes_predicted (run_dbcan) Note  \n",
       "0                     PL5|PL5_1  NaN  \n",
       "1         PL6_1|PL6,PL17_2|PL17  NaN  \n",
       "2         PL6|PL6_1,PL17|PL17_2  NaN  \n",
       "3         PL6_1|PL6,PL17|PL17_2  NaN  \n",
       "4         PL6|PL6_1,PL17_2|PL17  NaN  "
      ]
     },
     "execution_count": 62,
     "metadata": {},
     "output_type": "execute_result"
    }
   ],
   "source": [
    "latest_data.head()"
   ]
  },
  {
   "cell_type": "code",
   "execution_count": 63,
   "id": "de49a970",
   "metadata": {},
   "outputs": [],
   "source": [
    "latest_data = latest_data[[\"PUL ID\", \"updated_substrate (04/14/2023)\"]]"
   ]
  },
  {
   "cell_type": "code",
   "execution_count": 64,
   "id": "1a814ae3",
   "metadata": {},
   "outputs": [
    {
     "data": {
      "text/html": [
       "<div>\n",
       "<style scoped>\n",
       "    .dataframe tbody tr th:only-of-type {\n",
       "        vertical-align: middle;\n",
       "    }\n",
       "\n",
       "    .dataframe tbody tr th {\n",
       "        vertical-align: top;\n",
       "    }\n",
       "\n",
       "    .dataframe thead th {\n",
       "        text-align: right;\n",
       "    }\n",
       "</style>\n",
       "<table border=\"1\" class=\"dataframe\">\n",
       "  <thead>\n",
       "    <tr style=\"text-align: right;\">\n",
       "      <th></th>\n",
       "      <th>PULid</th>\n",
       "      <th>sig_gene_seq</th>\n",
       "      <th>low_level_substr</th>\n",
       "      <th>high_level_substr</th>\n",
       "      <th>Pub_year</th>\n",
       "      <th>degrad_biosyn</th>\n",
       "    </tr>\n",
       "  </thead>\n",
       "  <tbody>\n",
       "    <tr>\n",
       "      <th>0</th>\n",
       "      <td>PUL0001</td>\n",
       "      <td>GH1,8.A.49,CE2,GH130,GH130,3.A.1,3.A.1,SBP_bac...</td>\n",
       "      <td>beta-mannan</td>\n",
       "      <td>beta-mannan</td>\n",
       "      <td>2019</td>\n",
       "      <td>degradation</td>\n",
       "    </tr>\n",
       "    <tr>\n",
       "      <th>1</th>\n",
       "      <td>PUL0002</td>\n",
       "      <td>GH16</td>\n",
       "      <td>lichenan</td>\n",
       "      <td>beta-glucan</td>\n",
       "      <td>1996</td>\n",
       "      <td>degradation</td>\n",
       "    </tr>\n",
       "    <tr>\n",
       "      <th>2</th>\n",
       "      <td>PUL0003</td>\n",
       "      <td>GH30_8,GH43_16|CBM6</td>\n",
       "      <td>xylan</td>\n",
       "      <td>xylan</td>\n",
       "      <td>2016</td>\n",
       "      <td>degradation</td>\n",
       "    </tr>\n",
       "    <tr>\n",
       "      <th>5</th>\n",
       "      <td>PUL0006</td>\n",
       "      <td>GH1,SIS|HTH_6,3.A.1,8.A.59,HTH_18|Response_reg...</td>\n",
       "      <td>galactan</td>\n",
       "      <td>galactan</td>\n",
       "      <td>2014</td>\n",
       "      <td>degradation</td>\n",
       "    </tr>\n",
       "    <tr>\n",
       "      <th>6</th>\n",
       "      <td>PUL0007</td>\n",
       "      <td>GH53,2.A.2,GH42,LacI</td>\n",
       "      <td>galactan</td>\n",
       "      <td>galactan</td>\n",
       "      <td>2016</td>\n",
       "      <td>degradation</td>\n",
       "    </tr>\n",
       "  </tbody>\n",
       "</table>\n",
       "</div>"
      ],
      "text/plain": [
       "     PULid                                       sig_gene_seq  \\\n",
       "0  PUL0001  GH1,8.A.49,CE2,GH130,GH130,3.A.1,3.A.1,SBP_bac...   \n",
       "1  PUL0002                                               GH16   \n",
       "2  PUL0003                                GH30_8,GH43_16|CBM6   \n",
       "5  PUL0006  GH1,SIS|HTH_6,3.A.1,8.A.59,HTH_18|Response_reg...   \n",
       "6  PUL0007                               GH53,2.A.2,GH42,LacI   \n",
       "\n",
       "  low_level_substr high_level_substr Pub_year degrad_biosyn  \n",
       "0      beta-mannan       beta-mannan     2019   degradation  \n",
       "1         lichenan       beta-glucan     1996   degradation  \n",
       "2            xylan             xylan     2016   degradation  \n",
       "5         galactan          galactan     2014   degradation  \n",
       "6         galactan          galactan     2016   degradation  "
      ]
     },
     "execution_count": 64,
     "metadata": {},
     "output_type": "execute_result"
    }
   ],
   "source": [
    "data.head()"
   ]
  },
  {
   "cell_type": "code",
   "execution_count": 65,
   "id": "20a571f6",
   "metadata": {},
   "outputs": [],
   "source": [
    "merged_data = data.merge(latest_data, right_on = \"PUL ID\", left_on = \"PULid\")"
   ]
  },
  {
   "cell_type": "code",
   "execution_count": 66,
   "id": "3cd73c28",
   "metadata": {},
   "outputs": [
    {
     "data": {
      "text/html": [
       "<div>\n",
       "<style scoped>\n",
       "    .dataframe tbody tr th:only-of-type {\n",
       "        vertical-align: middle;\n",
       "    }\n",
       "\n",
       "    .dataframe tbody tr th {\n",
       "        vertical-align: top;\n",
       "    }\n",
       "\n",
       "    .dataframe thead th {\n",
       "        text-align: right;\n",
       "    }\n",
       "</style>\n",
       "<table border=\"1\" class=\"dataframe\">\n",
       "  <thead>\n",
       "    <tr style=\"text-align: right;\">\n",
       "      <th></th>\n",
       "      <th>PULid</th>\n",
       "      <th>sig_gene_seq</th>\n",
       "      <th>low_level_substr</th>\n",
       "      <th>high_level_substr</th>\n",
       "      <th>Pub_year</th>\n",
       "      <th>degrad_biosyn</th>\n",
       "      <th>PUL ID</th>\n",
       "      <th>updated_substrate (04/14/2023)</th>\n",
       "    </tr>\n",
       "  </thead>\n",
       "  <tbody>\n",
       "    <tr>\n",
       "      <th>0</th>\n",
       "      <td>PUL0001</td>\n",
       "      <td>GH1,8.A.49,CE2,GH130,GH130,3.A.1,3.A.1,SBP_bac...</td>\n",
       "      <td>beta-mannan</td>\n",
       "      <td>beta-mannan</td>\n",
       "      <td>2019</td>\n",
       "      <td>degradation</td>\n",
       "      <td>PUL0001</td>\n",
       "      <td>beta-mannan</td>\n",
       "    </tr>\n",
       "    <tr>\n",
       "      <th>1</th>\n",
       "      <td>PUL0002</td>\n",
       "      <td>GH16</td>\n",
       "      <td>lichenan</td>\n",
       "      <td>beta-glucan</td>\n",
       "      <td>1996</td>\n",
       "      <td>degradation</td>\n",
       "      <td>PUL0002</td>\n",
       "      <td>beta-glucan</td>\n",
       "    </tr>\n",
       "    <tr>\n",
       "      <th>2</th>\n",
       "      <td>PUL0003</td>\n",
       "      <td>GH30_8,GH43_16|CBM6</td>\n",
       "      <td>xylan</td>\n",
       "      <td>xylan</td>\n",
       "      <td>2016</td>\n",
       "      <td>degradation</td>\n",
       "      <td>PUL0003</td>\n",
       "      <td>xylan</td>\n",
       "    </tr>\n",
       "    <tr>\n",
       "      <th>3</th>\n",
       "      <td>PUL0006</td>\n",
       "      <td>GH1,SIS|HTH_6,3.A.1,8.A.59,HTH_18|Response_reg...</td>\n",
       "      <td>galactan</td>\n",
       "      <td>galactan</td>\n",
       "      <td>2014</td>\n",
       "      <td>degradation</td>\n",
       "      <td>PUL0006</td>\n",
       "      <td>galactan</td>\n",
       "    </tr>\n",
       "    <tr>\n",
       "      <th>4</th>\n",
       "      <td>PUL0007</td>\n",
       "      <td>GH53,2.A.2,GH42,LacI</td>\n",
       "      <td>galactan</td>\n",
       "      <td>galactan</td>\n",
       "      <td>2016</td>\n",
       "      <td>degradation</td>\n",
       "      <td>PUL0007</td>\n",
       "      <td>galactan</td>\n",
       "    </tr>\n",
       "  </tbody>\n",
       "</table>\n",
       "</div>"
      ],
      "text/plain": [
       "     PULid                                       sig_gene_seq  \\\n",
       "0  PUL0001  GH1,8.A.49,CE2,GH130,GH130,3.A.1,3.A.1,SBP_bac...   \n",
       "1  PUL0002                                               GH16   \n",
       "2  PUL0003                                GH30_8,GH43_16|CBM6   \n",
       "3  PUL0006  GH1,SIS|HTH_6,3.A.1,8.A.59,HTH_18|Response_reg...   \n",
       "4  PUL0007                               GH53,2.A.2,GH42,LacI   \n",
       "\n",
       "  low_level_substr high_level_substr Pub_year degrad_biosyn   PUL ID  \\\n",
       "0      beta-mannan       beta-mannan     2019   degradation  PUL0001   \n",
       "1         lichenan       beta-glucan     1996   degradation  PUL0002   \n",
       "2            xylan             xylan     2016   degradation  PUL0003   \n",
       "3         galactan          galactan     2014   degradation  PUL0006   \n",
       "4         galactan          galactan     2016   degradation  PUL0007   \n",
       "\n",
       "  updated_substrate (04/14/2023)  \n",
       "0                    beta-mannan  \n",
       "1                    beta-glucan  \n",
       "2                          xylan  \n",
       "3                       galactan  \n",
       "4                       galactan  "
      ]
     },
     "execution_count": 66,
     "metadata": {},
     "output_type": "execute_result"
    }
   ],
   "source": [
    "merged_data.head()"
   ]
  },
  {
   "cell_type": "code",
   "execution_count": 67,
   "id": "885a70ac",
   "metadata": {},
   "outputs": [],
   "source": [
    "merged_data = merged_data[[\"PULid\", \"sig_gene_seq\", \"updated_substrate (04/14/2023)\"]]"
   ]
  },
  {
   "cell_type": "code",
   "execution_count": 68,
   "id": "c72a5241",
   "metadata": {},
   "outputs": [],
   "source": [
    "merged_data.columns = [\"PULid\", \"sig_gene_seq\", \"high_level_substr\"]"
   ]
  },
  {
   "cell_type": "code",
   "execution_count": 69,
   "id": "dd567953",
   "metadata": {},
   "outputs": [
    {
     "data": {
      "text/html": [
       "<div>\n",
       "<style scoped>\n",
       "    .dataframe tbody tr th:only-of-type {\n",
       "        vertical-align: middle;\n",
       "    }\n",
       "\n",
       "    .dataframe tbody tr th {\n",
       "        vertical-align: top;\n",
       "    }\n",
       "\n",
       "    .dataframe thead th {\n",
       "        text-align: right;\n",
       "    }\n",
       "</style>\n",
       "<table border=\"1\" class=\"dataframe\">\n",
       "  <thead>\n",
       "    <tr style=\"text-align: right;\">\n",
       "      <th></th>\n",
       "      <th>PULid</th>\n",
       "      <th>sig_gene_seq</th>\n",
       "      <th>high_level_substr</th>\n",
       "    </tr>\n",
       "  </thead>\n",
       "  <tbody>\n",
       "    <tr>\n",
       "      <th>0</th>\n",
       "      <td>PUL0001</td>\n",
       "      <td>GH1,8.A.49,CE2,GH130,GH130,3.A.1,3.A.1,SBP_bac...</td>\n",
       "      <td>beta-mannan</td>\n",
       "    </tr>\n",
       "    <tr>\n",
       "      <th>1</th>\n",
       "      <td>PUL0002</td>\n",
       "      <td>GH16</td>\n",
       "      <td>beta-glucan</td>\n",
       "    </tr>\n",
       "    <tr>\n",
       "      <th>2</th>\n",
       "      <td>PUL0003</td>\n",
       "      <td>GH30_8,GH43_16|CBM6</td>\n",
       "      <td>xylan</td>\n",
       "    </tr>\n",
       "    <tr>\n",
       "      <th>3</th>\n",
       "      <td>PUL0006</td>\n",
       "      <td>GH1,SIS|HTH_6,3.A.1,8.A.59,HTH_18|Response_reg...</td>\n",
       "      <td>galactan</td>\n",
       "    </tr>\n",
       "    <tr>\n",
       "      <th>4</th>\n",
       "      <td>PUL0007</td>\n",
       "      <td>GH53,2.A.2,GH42,LacI</td>\n",
       "      <td>galactan</td>\n",
       "    </tr>\n",
       "  </tbody>\n",
       "</table>\n",
       "</div>"
      ],
      "text/plain": [
       "     PULid                                       sig_gene_seq  \\\n",
       "0  PUL0001  GH1,8.A.49,CE2,GH130,GH130,3.A.1,3.A.1,SBP_bac...   \n",
       "1  PUL0002                                               GH16   \n",
       "2  PUL0003                                GH30_8,GH43_16|CBM6   \n",
       "3  PUL0006  GH1,SIS|HTH_6,3.A.1,8.A.59,HTH_18|Response_reg...   \n",
       "4  PUL0007                               GH53,2.A.2,GH42,LacI   \n",
       "\n",
       "  high_level_substr  \n",
       "0       beta-mannan  \n",
       "1       beta-glucan  \n",
       "2             xylan  \n",
       "3          galactan  \n",
       "4          galactan  "
      ]
     },
     "execution_count": 69,
     "metadata": {},
     "output_type": "execute_result"
    }
   ],
   "source": [
    "merged_data.head()"
   ]
  },
  {
   "cell_type": "code",
   "execution_count": 70,
   "id": "36662e3c",
   "metadata": {},
   "outputs": [],
   "source": [
    "## read the data\n",
    "# sup_data_path = r\"Data/Supervised_Sequences/dbCAN-PUL_07-01-2022.xlsx\"\n",
    "new_sup_data_with_nulls = pd.read_csv(r\"D:\\subFinder\\Data\\Supervised_Sequences\\supervised_seq_with_null.tsv\", sep = \"\\t\", \n",
    "                                      header = None)\n",
    "new_sup_data_with_nulls.columns = [\"PUL ID\", \"sequence\"]"
   ]
  },
  {
   "cell_type": "code",
   "execution_count": 71,
   "id": "0f532b44",
   "metadata": {},
   "outputs": [],
   "source": [
    "data = pd.merge(merged_data, new_sup_data_with_nulls, left_on = \"PULid\", right_on = \"PUL ID\", how = \"left\")\n",
    "data = data.drop([\"sig_gene_seq\"],1)\n",
    "data.columns = ['PUL ID', 'high_level_substr', 'PULid', 'sig_gene_seq']"
   ]
  },
  {
   "cell_type": "code",
   "execution_count": 72,
   "id": "4c2ae4d7",
   "metadata": {},
   "outputs": [
    {
     "data": {
      "text/html": [
       "<div>\n",
       "<style scoped>\n",
       "    .dataframe tbody tr th:only-of-type {\n",
       "        vertical-align: middle;\n",
       "    }\n",
       "\n",
       "    .dataframe tbody tr th {\n",
       "        vertical-align: top;\n",
       "    }\n",
       "\n",
       "    .dataframe thead th {\n",
       "        text-align: right;\n",
       "    }\n",
       "</style>\n",
       "<table border=\"1\" class=\"dataframe\">\n",
       "  <thead>\n",
       "    <tr style=\"text-align: right;\">\n",
       "      <th></th>\n",
       "      <th>PUL ID</th>\n",
       "      <th>high_level_substr</th>\n",
       "      <th>PULid</th>\n",
       "      <th>sig_gene_seq</th>\n",
       "    </tr>\n",
       "  </thead>\n",
       "  <tbody>\n",
       "    <tr>\n",
       "      <th>0</th>\n",
       "      <td>PUL0001</td>\n",
       "      <td>beta-mannan</td>\n",
       "      <td>PUL0001</td>\n",
       "      <td>GH1,8.A.49,null,null,CE2,GH130,GH130,null,3.A....</td>\n",
       "    </tr>\n",
       "    <tr>\n",
       "      <th>1</th>\n",
       "      <td>PUL0002</td>\n",
       "      <td>beta-glucan</td>\n",
       "      <td>PUL0002</td>\n",
       "      <td>null,GH16</td>\n",
       "    </tr>\n",
       "    <tr>\n",
       "      <th>2</th>\n",
       "      <td>PUL0003</td>\n",
       "      <td>xylan</td>\n",
       "      <td>PUL0003</td>\n",
       "      <td>GH30_8,GH43_16|CBM6</td>\n",
       "    </tr>\n",
       "    <tr>\n",
       "      <th>3</th>\n",
       "      <td>PUL0006</td>\n",
       "      <td>galactan</td>\n",
       "      <td>PUL0006</td>\n",
       "      <td>GH1,HTH_6|SIS,null,null,3.A.1,8.A.59,Response_...</td>\n",
       "    </tr>\n",
       "    <tr>\n",
       "      <th>4</th>\n",
       "      <td>PUL0007</td>\n",
       "      <td>galactan</td>\n",
       "      <td>PUL0007</td>\n",
       "      <td>null,null,null,null,GH53,2.A.2,GH42,LacI</td>\n",
       "    </tr>\n",
       "  </tbody>\n",
       "</table>\n",
       "</div>"
      ],
      "text/plain": [
       "    PUL ID high_level_substr    PULid  \\\n",
       "0  PUL0001       beta-mannan  PUL0001   \n",
       "1  PUL0002       beta-glucan  PUL0002   \n",
       "2  PUL0003             xylan  PUL0003   \n",
       "3  PUL0006          galactan  PUL0006   \n",
       "4  PUL0007          galactan  PUL0007   \n",
       "\n",
       "                                        sig_gene_seq  \n",
       "0  GH1,8.A.49,null,null,CE2,GH130,GH130,null,3.A....  \n",
       "1                                          null,GH16  \n",
       "2                                GH30_8,GH43_16|CBM6  \n",
       "3  GH1,HTH_6|SIS,null,null,3.A.1,8.A.59,Response_...  \n",
       "4           null,null,null,null,GH53,2.A.2,GH42,LacI  "
      ]
     },
     "execution_count": 72,
     "metadata": {},
     "output_type": "execute_result"
    }
   ],
   "source": [
    "data.head()"
   ]
  },
  {
   "cell_type": "code",
   "execution_count": 73,
   "id": "87a10ca2",
   "metadata": {},
   "outputs": [
    {
     "data": {
      "text/plain": [
       "(411, 4)"
      ]
     },
     "execution_count": 73,
     "metadata": {},
     "output_type": "execute_result"
    }
   ],
   "source": [
    "data.shape"
   ]
  },
  {
   "cell_type": "code",
   "execution_count": 74,
   "id": "dfd4322d",
   "metadata": {},
   "outputs": [],
   "source": [
    "import gensim"
   ]
  },
  {
   "cell_type": "code",
   "execution_count": 75,
   "id": "99358ff1",
   "metadata": {},
   "outputs": [
    {
     "data": {
      "text/plain": [
       "(1388, 300)"
      ]
     },
     "execution_count": 75,
     "metadata": {},
     "output_type": "execute_result"
    }
   ],
   "source": [
    "model_dbow = gensim.models.doc2vec.Doc2Vec.load(\"..//Embedding_Models_10_12//doc2vec_dm\") \n",
    "\n",
    "model_dbow.wv.vectors.shape"
   ]
  },
  {
   "cell_type": "code",
   "execution_count": 76,
   "id": "8ed29a25",
   "metadata": {},
   "outputs": [],
   "source": [
    "from tqdm.notebook import tqdm"
   ]
  },
  {
   "cell_type": "code",
   "execution_count": 77,
   "id": "6a7554d1",
   "metadata": {},
   "outputs": [
    {
     "data": {
      "text/plain": [
       "(1388, 300)"
      ]
     },
     "execution_count": 77,
     "metadata": {},
     "output_type": "execute_result"
    }
   ],
   "source": [
    "model_word2vec = gensim.models.word2vec.Word2Vec.load(\"..//Embedding_Models_10_12//word2vec_sg\") \n",
    "\n",
    "model_word2vec.wv.vectors.shape"
   ]
  },
  {
   "cell_type": "code",
   "execution_count": 78,
   "id": "b884f2f5",
   "metadata": {},
   "outputs": [],
   "source": [
    "vocab = model_word2vec.wv.index_to_key "
   ]
  },
  {
   "cell_type": "code",
   "execution_count": 79,
   "id": "35b73e30",
   "metadata": {},
   "outputs": [],
   "source": [
    "import numpy as np"
   ]
  },
  {
   "cell_type": "code",
   "execution_count": 80,
   "id": "176118ff",
   "metadata": {},
   "outputs": [],
   "source": [
    "vec_size = model_word2vec.wv.vectors.shape[1]"
   ]
  },
  {
   "cell_type": "code",
   "execution_count": 81,
   "id": "436e827a",
   "metadata": {},
   "outputs": [
    {
     "data": {
      "application/vnd.jupyter.widget-view+json": {
       "model_id": "e74dc0820e874154a771cacf96389b63",
       "version_major": 2,
       "version_minor": 0
      },
      "text/plain": [
       "  0%|          | 0/411 [00:00<?, ?it/s]"
      ]
     },
     "metadata": {},
     "output_type": "display_data"
    }
   ],
   "source": [
    "X_train_doc_vectors = []\n",
    "    \n",
    "for train_item in tqdm(data[\"sig_gene_seq\"].values):\n",
    "    train_item = train_item.replace(\"|\", \",\").split(\",\")\n",
    "    word_vectors = []\n",
    "    for word in train_item: \n",
    "        if word in vocab:\n",
    "            word_vectors.append(model_word2vec.wv.get_vector(word).reshape(1,-1).tolist()[0])\n",
    "        else:\n",
    "            word_vectors.append(np.zeros((1,vec_size)).reshape(1,-1).tolist()[0])\n",
    "            \n",
    "    if len(word_vectors) == 0: \n",
    "        X_train_doc_vectors.append(np.zeros((1,vec_size)).tolist()[0])\n",
    "    else:\n",
    "        X_train_doc_vectors.append(np.array(word_vectors).mean(0).tolist())   "
   ]
  },
  {
   "cell_type": "code",
   "execution_count": 82,
   "id": "1373af41",
   "metadata": {},
   "outputs": [],
   "source": [
    "doc_vectors_df = pd.DataFrame(X_train_doc_vectors)"
   ]
  },
  {
   "cell_type": "code",
   "execution_count": 83,
   "id": "b4467bbf",
   "metadata": {},
   "outputs": [
    {
     "data": {
      "text/plain": [
       "(411, 4)"
      ]
     },
     "execution_count": 83,
     "metadata": {},
     "output_type": "execute_result"
    }
   ],
   "source": [
    "data.shape"
   ]
  },
  {
   "cell_type": "code",
   "execution_count": 84,
   "id": "2b328940",
   "metadata": {},
   "outputs": [],
   "source": [
    "# data = data[data[\"high_level_substr\"] != \"X\"]"
   ]
  },
  {
   "cell_type": "code",
   "execution_count": 85,
   "id": "fdc7b332",
   "metadata": {},
   "outputs": [
    {
     "data": {
      "text/plain": [
       "(411, 300)"
      ]
     },
     "execution_count": 85,
     "metadata": {},
     "output_type": "execute_result"
    }
   ],
   "source": [
    "doc_vectors_df.shape"
   ]
  },
  {
   "cell_type": "code",
   "execution_count": 86,
   "id": "3c6c8fc0",
   "metadata": {},
   "outputs": [],
   "source": [
    "doc_vectors_df[\"high_level_substr\"] = data[[\"high_level_substr\"]].values"
   ]
  },
  {
   "cell_type": "code",
   "execution_count": 87,
   "id": "6112eba1",
   "metadata": {},
   "outputs": [],
   "source": [
    "# doc_vectors_df"
   ]
  },
  {
   "cell_type": "code",
   "execution_count": 88,
   "id": "04d7f727",
   "metadata": {},
   "outputs": [
    {
     "data": {
      "text/plain": [
       "(411, 301)"
      ]
     },
     "execution_count": 88,
     "metadata": {},
     "output_type": "execute_result"
    }
   ],
   "source": [
    "doc_vectors_df.shape"
   ]
  },
  {
   "cell_type": "code",
   "execution_count": 89,
   "id": "5df0b840",
   "metadata": {},
   "outputs": [],
   "source": [
    "data = merged_data.copy()"
   ]
  },
  {
   "cell_type": "code",
   "execution_count": 90,
   "id": "9ef4755b",
   "metadata": {},
   "outputs": [
    {
     "data": {
      "text/plain": [
       "Index(['PULid', 'sig_gene_seq', 'high_level_substr'], dtype='object')"
      ]
     },
     "execution_count": 90,
     "metadata": {},
     "output_type": "execute_result"
    }
   ],
   "source": [
    "data.columns"
   ]
  },
  {
   "cell_type": "code",
   "execution_count": 91,
   "id": "3b7261a9",
   "metadata": {},
   "outputs": [],
   "source": [
    "order = list(data[\"high_level_substr\"].value_counts().keys())"
   ]
  },
  {
   "cell_type": "code",
   "execution_count": 92,
   "id": "0fc568e9",
   "metadata": {},
   "outputs": [],
   "source": [
    "count_df1 = pd.DataFrame(data[\"high_level_substr\"].value_counts()).reset_index()"
   ]
  },
  {
   "cell_type": "code",
   "execution_count": 93,
   "id": "15c852f7",
   "metadata": {},
   "outputs": [],
   "source": [
    "count_df1.columns = [\"high_level_substr\", \"count\"]"
   ]
  },
  {
   "cell_type": "code",
   "execution_count": 94,
   "id": "a7652aa5",
   "metadata": {},
   "outputs": [],
   "source": [
    "data = data.merge(count_df1, how = \"left\", on = \"high_level_substr\")"
   ]
  },
  {
   "cell_type": "code",
   "execution_count": 95,
   "id": "6fef4936",
   "metadata": {},
   "outputs": [
    {
     "data": {
      "text/plain": [
       "X                                     106\n",
       "beta-glucan                            44\n",
       "xylan                                  41\n",
       "pectin                                 39\n",
       "host glycan                            33\n",
       "galactan                               28\n",
       "beta-mannan                            26\n",
       "alpha-glucan                           22\n",
       "alginate                               21\n",
       "arabinogalactan                        17\n",
       "chitin                                 15\n",
       "alpha-mannan                            8\n",
       "fructan                                 7\n",
       "capsule polysaccharide degradation      4\n",
       "Name: high_level_substr, dtype: int64"
      ]
     },
     "execution_count": 95,
     "metadata": {},
     "output_type": "execute_result"
    }
   ],
   "source": [
    "data[\"high_level_substr\"].value_counts()"
   ]
  },
  {
   "cell_type": "code",
   "execution_count": 110,
   "id": "78841de7",
   "metadata": {},
   "outputs": [
    {
     "data": {
      "text/plain": [
       "411"
      ]
     },
     "execution_count": 110,
     "metadata": {},
     "output_type": "execute_result"
    }
   ],
   "source": [
    "data[\"high_level_substr\"].value_counts().values.sum()"
   ]
  },
  {
   "cell_type": "code",
   "execution_count": 96,
   "id": "93b844b7",
   "metadata": {},
   "outputs": [],
   "source": [
    "data = data.sort_values([\"count\", \"high_level_substr\"], ascending = [False, False])"
   ]
  },
  {
   "cell_type": "code",
   "execution_count": 97,
   "id": "20bca5b6",
   "metadata": {},
   "outputs": [
    {
     "data": {
      "text/html": [
       "<div>\n",
       "<style scoped>\n",
       "    .dataframe tbody tr th:only-of-type {\n",
       "        vertical-align: middle;\n",
       "    }\n",
       "\n",
       "    .dataframe tbody tr th {\n",
       "        vertical-align: top;\n",
       "    }\n",
       "\n",
       "    .dataframe thead th {\n",
       "        text-align: right;\n",
       "    }\n",
       "</style>\n",
       "<table border=\"1\" class=\"dataframe\">\n",
       "  <thead>\n",
       "    <tr style=\"text-align: right;\">\n",
       "      <th></th>\n",
       "      <th>PULid</th>\n",
       "      <th>sig_gene_seq</th>\n",
       "      <th>high_level_substr</th>\n",
       "      <th>count</th>\n",
       "    </tr>\n",
       "  </thead>\n",
       "  <tbody>\n",
       "    <tr>\n",
       "      <th>16</th>\n",
       "      <td>PUL0025</td>\n",
       "      <td>8.A.3,1.B.18,GT2,GT4,GT2,GT2,9.B.18</td>\n",
       "      <td>X</td>\n",
       "      <td>106</td>\n",
       "    </tr>\n",
       "    <tr>\n",
       "      <th>23</th>\n",
       "      <td>PUL0043</td>\n",
       "      <td>8.A.3,1.B.18,GT4,9.B.18,9.B.146,9.B.18</td>\n",
       "      <td>X</td>\n",
       "      <td>106</td>\n",
       "    </tr>\n",
       "    <tr>\n",
       "      <th>26</th>\n",
       "      <td>PUL0046</td>\n",
       "      <td>GT2</td>\n",
       "      <td>X</td>\n",
       "      <td>106</td>\n",
       "    </tr>\n",
       "    <tr>\n",
       "      <th>27</th>\n",
       "      <td>PUL0047</td>\n",
       "      <td>2.A.66,GT4,AraC_binding,3.A.1,GT4|GT4</td>\n",
       "      <td>X</td>\n",
       "      <td>106</td>\n",
       "    </tr>\n",
       "    <tr>\n",
       "      <th>34</th>\n",
       "      <td>PUL0057</td>\n",
       "      <td>GT4,GT4</td>\n",
       "      <td>X</td>\n",
       "      <td>106</td>\n",
       "    </tr>\n",
       "    <tr>\n",
       "      <th>...</th>\n",
       "      <td>...</td>\n",
       "      <td>...</td>\n",
       "      <td>...</td>\n",
       "      <td>...</td>\n",
       "    </tr>\n",
       "    <tr>\n",
       "      <th>359</th>\n",
       "      <td>PUL0581</td>\n",
       "      <td>GH32,PfkB,GH32</td>\n",
       "      <td>fructan</td>\n",
       "      <td>7</td>\n",
       "    </tr>\n",
       "    <tr>\n",
       "      <th>121</th>\n",
       "      <td>PUL0203</td>\n",
       "      <td>GH32,GH32,8.A.46,1.B.14,GH32</td>\n",
       "      <td>capsule polysaccharide degradation</td>\n",
       "      <td>4</td>\n",
       "    </tr>\n",
       "    <tr>\n",
       "      <th>122</th>\n",
       "      <td>PUL0204</td>\n",
       "      <td>8.A.9,8.A.46,1.B.14,GH97,8.A.9</td>\n",
       "      <td>capsule polysaccharide degradation</td>\n",
       "      <td>4</td>\n",
       "    </tr>\n",
       "    <tr>\n",
       "      <th>123</th>\n",
       "      <td>PUL0205</td>\n",
       "      <td>GH31,GH31,GH66,8.A.46,1.B.14</td>\n",
       "      <td>capsule polysaccharide degradation</td>\n",
       "      <td>4</td>\n",
       "    </tr>\n",
       "    <tr>\n",
       "      <th>155</th>\n",
       "      <td>PUL0248</td>\n",
       "      <td>9.B.18,9.B.18,PL12_3,8.A.3,1.B.18</td>\n",
       "      <td>capsule polysaccharide degradation</td>\n",
       "      <td>4</td>\n",
       "    </tr>\n",
       "  </tbody>\n",
       "</table>\n",
       "<p>411 rows × 4 columns</p>\n",
       "</div>"
      ],
      "text/plain": [
       "       PULid                            sig_gene_seq  \\\n",
       "16   PUL0025     8.A.3,1.B.18,GT2,GT4,GT2,GT2,9.B.18   \n",
       "23   PUL0043  8.A.3,1.B.18,GT4,9.B.18,9.B.146,9.B.18   \n",
       "26   PUL0046                                     GT2   \n",
       "27   PUL0047   2.A.66,GT4,AraC_binding,3.A.1,GT4|GT4   \n",
       "34   PUL0057                                 GT4,GT4   \n",
       "..       ...                                     ...   \n",
       "359  PUL0581                          GH32,PfkB,GH32   \n",
       "121  PUL0203            GH32,GH32,8.A.46,1.B.14,GH32   \n",
       "122  PUL0204          8.A.9,8.A.46,1.B.14,GH97,8.A.9   \n",
       "123  PUL0205            GH31,GH31,GH66,8.A.46,1.B.14   \n",
       "155  PUL0248       9.B.18,9.B.18,PL12_3,8.A.3,1.B.18   \n",
       "\n",
       "                      high_level_substr  count  \n",
       "16                                    X    106  \n",
       "23                                    X    106  \n",
       "26                                    X    106  \n",
       "27                                    X    106  \n",
       "34                                    X    106  \n",
       "..                                  ...    ...  \n",
       "359                             fructan      7  \n",
       "121  capsule polysaccharide degradation      4  \n",
       "122  capsule polysaccharide degradation      4  \n",
       "123  capsule polysaccharide degradation      4  \n",
       "155  capsule polysaccharide degradation      4  \n",
       "\n",
       "[411 rows x 4 columns]"
      ]
     },
     "execution_count": 97,
     "metadata": {},
     "output_type": "execute_result"
    }
   ],
   "source": [
    "data"
   ]
  },
  {
   "cell_type": "code",
   "execution_count": 98,
   "id": "6939dd9b",
   "metadata": {},
   "outputs": [],
   "source": [
    "D = dict(data.high_level_substr.value_counts())"
   ]
  },
  {
   "cell_type": "code",
   "execution_count": 99,
   "id": "7c5e2fd2",
   "metadata": {},
   "outputs": [],
   "source": [
    "# D"
   ]
  },
  {
   "cell_type": "code",
   "execution_count": 100,
   "id": "9ba848a4",
   "metadata": {},
   "outputs": [],
   "source": [
    "count_df = pd.DataFrame(data.high_level_substr.value_counts()).reset_index()"
   ]
  },
  {
   "cell_type": "code",
   "execution_count": 101,
   "id": "dc085f6f",
   "metadata": {},
   "outputs": [],
   "source": [
    "count_df.columns = [\"High Level Substrate\", \"Number of PULs\"]"
   ]
  },
  {
   "cell_type": "code",
   "execution_count": 102,
   "id": "bd97e80a",
   "metadata": {},
   "outputs": [],
   "source": [
    "count_df = count_df[count_df[\"High Level Substrate\"] != \"X\"]"
   ]
  },
  {
   "cell_type": "code",
   "execution_count": 103,
   "id": "687f509e",
   "metadata": {},
   "outputs": [
    {
     "data": {
      "text/html": [
       "<div>\n",
       "<style scoped>\n",
       "    .dataframe tbody tr th:only-of-type {\n",
       "        vertical-align: middle;\n",
       "    }\n",
       "\n",
       "    .dataframe tbody tr th {\n",
       "        vertical-align: top;\n",
       "    }\n",
       "\n",
       "    .dataframe thead th {\n",
       "        text-align: right;\n",
       "    }\n",
       "</style>\n",
       "<table border=\"1\" class=\"dataframe\">\n",
       "  <thead>\n",
       "    <tr style=\"text-align: right;\">\n",
       "      <th></th>\n",
       "      <th>High Level Substrate</th>\n",
       "      <th>Number of PULs</th>\n",
       "    </tr>\n",
       "  </thead>\n",
       "  <tbody>\n",
       "    <tr>\n",
       "      <th>1</th>\n",
       "      <td>beta-glucan</td>\n",
       "      <td>44</td>\n",
       "    </tr>\n",
       "    <tr>\n",
       "      <th>2</th>\n",
       "      <td>xylan</td>\n",
       "      <td>41</td>\n",
       "    </tr>\n",
       "    <tr>\n",
       "      <th>3</th>\n",
       "      <td>pectin</td>\n",
       "      <td>39</td>\n",
       "    </tr>\n",
       "    <tr>\n",
       "      <th>4</th>\n",
       "      <td>host glycan</td>\n",
       "      <td>33</td>\n",
       "    </tr>\n",
       "    <tr>\n",
       "      <th>5</th>\n",
       "      <td>galactan</td>\n",
       "      <td>28</td>\n",
       "    </tr>\n",
       "    <tr>\n",
       "      <th>6</th>\n",
       "      <td>beta-mannan</td>\n",
       "      <td>26</td>\n",
       "    </tr>\n",
       "    <tr>\n",
       "      <th>7</th>\n",
       "      <td>alpha-glucan</td>\n",
       "      <td>22</td>\n",
       "    </tr>\n",
       "    <tr>\n",
       "      <th>8</th>\n",
       "      <td>alginate</td>\n",
       "      <td>21</td>\n",
       "    </tr>\n",
       "    <tr>\n",
       "      <th>9</th>\n",
       "      <td>arabinogalactan</td>\n",
       "      <td>17</td>\n",
       "    </tr>\n",
       "    <tr>\n",
       "      <th>10</th>\n",
       "      <td>chitin</td>\n",
       "      <td>15</td>\n",
       "    </tr>\n",
       "    <tr>\n",
       "      <th>11</th>\n",
       "      <td>alpha-mannan</td>\n",
       "      <td>8</td>\n",
       "    </tr>\n",
       "    <tr>\n",
       "      <th>12</th>\n",
       "      <td>fructan</td>\n",
       "      <td>7</td>\n",
       "    </tr>\n",
       "    <tr>\n",
       "      <th>13</th>\n",
       "      <td>capsule polysaccharide degradation</td>\n",
       "      <td>4</td>\n",
       "    </tr>\n",
       "  </tbody>\n",
       "</table>\n",
       "</div>"
      ],
      "text/plain": [
       "                  High Level Substrate  Number of PULs\n",
       "1                          beta-glucan              44\n",
       "2                                xylan              41\n",
       "3                               pectin              39\n",
       "4                          host glycan              33\n",
       "5                             galactan              28\n",
       "6                          beta-mannan              26\n",
       "7                         alpha-glucan              22\n",
       "8                             alginate              21\n",
       "9                      arabinogalactan              17\n",
       "10                              chitin              15\n",
       "11                        alpha-mannan               8\n",
       "12                             fructan               7\n",
       "13  capsule polysaccharide degradation               4"
      ]
     },
     "execution_count": 103,
     "metadata": {},
     "output_type": "execute_result"
    }
   ],
   "source": [
    "count_df"
   ]
  },
  {
   "cell_type": "code",
   "execution_count": 104,
   "id": "3e464509",
   "metadata": {},
   "outputs": [
    {
     "data": {
      "text/plain": [
       "(13, 2)"
      ]
     },
     "execution_count": 104,
     "metadata": {},
     "output_type": "execute_result"
    }
   ],
   "source": [
    "count_df.shape"
   ]
  },
  {
   "cell_type": "code",
   "execution_count": 107,
   "id": "b082c1c8",
   "metadata": {},
   "outputs": [
    {
     "data": {
      "text/plain": [
       "305"
      ]
     },
     "execution_count": 107,
     "metadata": {},
     "output_type": "execute_result"
    }
   ],
   "source": [
    "count_df[\"Number of PULs\"].values.sum()"
   ]
  },
  {
   "cell_type": "code",
   "execution_count": 66,
   "id": "30fe3360",
   "metadata": {},
   "outputs": [],
   "source": [
    "import matplotlib.pyplot as plt\n",
    "import matplotlib as mpl"
   ]
  },
  {
   "cell_type": "code",
   "execution_count": 67,
   "id": "c92d31ac",
   "metadata": {},
   "outputs": [],
   "source": [
    "# some parameters for improved plotting aesthetics\n",
    "# mpl.rcParams['xtick.labelsize'] = 15 \n",
    "plt.rcParams[\"font.weight\"] = \"bold\""
   ]
  },
  {
   "cell_type": "code",
   "execution_count": 153,
   "id": "db3fd1e0",
   "metadata": {},
   "outputs": [
    {
     "data": {
      "image/png": "[encoded data removed]",
      "text/plain": [
       "<Figure size 720x720 with 1 Axes>"
      ]
     },
     "metadata": {
      "needs_background": "light"
     },
     "output_type": "display_data"
    }
   ],
   "source": [
    "plt.figure(figsize = (10,10))\n",
    "ax = sns.barplot(y=\"High Level Substrate\", x=\"Number of PULs\", data=count_df)\n",
    "# put the labels but rotate them\n",
    "plt.yticks(range(len(count_df)), list(count_df[\"High Level Substrate\"]), weight = \"bold\", fontsize=14)\n",
    "# increase the ticks on y\n",
    "plt.xticks(fontsize=14)\n",
    "# give labels to x\n",
    "plt.xlabel(\"Number of PULs\", weight = \"bold\", fontsize = 20)\n",
    "# give labels to y\n",
    "plt.ylabel(\"High Level Substrate\", weight = \"bold\", fontsize = 20)\n",
    "# put the title\n",
    "# plt.title(\"Frequencies for the High Level Substrates\", weight = \"bold\", fontsize = 20)\n",
    "plt.savefig('cgc_frequencies.pdf', \n",
    "           bbox_inches='tight')\n",
    "plt.show()"
   ]
  },
  {
   "cell_type": "code",
   "execution_count": 69,
   "id": "4c1d9b5c",
   "metadata": {},
   "outputs": [],
   "source": [
    "new_data = pd.read_excel(\"../Data/Supervised_Sequences/dbCAN-PUL_currentv4tov5.xlsx\")"
   ]
  },
  {
   "cell_type": "code",
   "execution_count": 70,
   "id": "633ffbb8",
   "metadata": {},
   "outputs": [],
   "source": [
    "new_data[\"Genera\"] = pd.DataFrame(new_data[\"organism_name\"].str.split(\" \").tolist())[0]"
   ]
  },
  {
   "cell_type": "code",
   "execution_count": 71,
   "id": "de6b3e01",
   "metadata": {},
   "outputs": [],
   "source": [
    "data = data[data[\"high_level_substr\"] != \"X\"]"
   ]
  },
  {
   "cell_type": "code",
   "execution_count": 72,
   "id": "bc3f564a",
   "metadata": {},
   "outputs": [],
   "source": [
    "# merge to bring in the genera information\n",
    "data = data.merge(new_data[[\"ID\",\"Genera\"]], how = \"left\", left_on = \"PULid\",right_on = \"ID\")"
   ]
  },
  {
   "cell_type": "code",
   "execution_count": 73,
   "id": "e1b5f88a",
   "metadata": {},
   "outputs": [],
   "source": [
    "# data"
   ]
  },
  {
   "cell_type": "code",
   "execution_count": 74,
   "id": "1a89012a",
   "metadata": {},
   "outputs": [],
   "source": [
    "# count_df_Genera.shape"
   ]
  },
  {
   "cell_type": "code",
   "execution_count": 75,
   "id": "17896d56",
   "metadata": {},
   "outputs": [
    {
     "data": {
      "text/html": [
       "<div>\n",
       "<style scoped>\n",
       "    .dataframe tbody tr th:only-of-type {\n",
       "        vertical-align: middle;\n",
       "    }\n",
       "\n",
       "    .dataframe tbody tr th {\n",
       "        vertical-align: top;\n",
       "    }\n",
       "\n",
       "    .dataframe thead th {\n",
       "        text-align: right;\n",
       "    }\n",
       "</style>\n",
       "<table border=\"1\" class=\"dataframe\">\n",
       "  <thead>\n",
       "    <tr style=\"text-align: right;\">\n",
       "      <th></th>\n",
       "      <th>Genera</th>\n",
       "      <th>Number of PULs</th>\n",
       "    </tr>\n",
       "  </thead>\n",
       "  <tbody>\n",
       "    <tr>\n",
       "      <th>0</th>\n",
       "      <td>Bacteroides</td>\n",
       "      <td>87</td>\n",
       "    </tr>\n",
       "    <tr>\n",
       "      <th>1</th>\n",
       "      <td>Bifidobacterium</td>\n",
       "      <td>21</td>\n",
       "    </tr>\n",
       "    <tr>\n",
       "      <th>2</th>\n",
       "      <td>Prevotella</td>\n",
       "      <td>20</td>\n",
       "    </tr>\n",
       "    <tr>\n",
       "      <th>3</th>\n",
       "      <td>Flavobacterium</td>\n",
       "      <td>12</td>\n",
       "    </tr>\n",
       "    <tr>\n",
       "      <th>4</th>\n",
       "      <td>Ruminiclostridium</td>\n",
       "      <td>11</td>\n",
       "    </tr>\n",
       "    <tr>\n",
       "      <th>5</th>\n",
       "      <td>Pseudoalteromonas</td>\n",
       "      <td>10</td>\n",
       "    </tr>\n",
       "    <tr>\n",
       "      <th>6</th>\n",
       "      <td>Bacillus</td>\n",
       "      <td>10</td>\n",
       "    </tr>\n",
       "    <tr>\n",
       "      <th>7</th>\n",
       "      <td>Lactobacillus</td>\n",
       "      <td>9</td>\n",
       "    </tr>\n",
       "    <tr>\n",
       "      <th>8</th>\n",
       "      <td>Zobellia</td>\n",
       "      <td>8</td>\n",
       "    </tr>\n",
       "    <tr>\n",
       "      <th>9</th>\n",
       "      <td>Streptococcus</td>\n",
       "      <td>7</td>\n",
       "    </tr>\n",
       "    <tr>\n",
       "      <th>10</th>\n",
       "      <td>Gramella</td>\n",
       "      <td>7</td>\n",
       "    </tr>\n",
       "    <tr>\n",
       "      <th>11</th>\n",
       "      <td>Geobacillus</td>\n",
       "      <td>7</td>\n",
       "    </tr>\n",
       "    <tr>\n",
       "      <th>12</th>\n",
       "      <td>Alteromonas</td>\n",
       "      <td>6</td>\n",
       "    </tr>\n",
       "    <tr>\n",
       "      <th>13</th>\n",
       "      <td>Vibrio</td>\n",
       "      <td>6</td>\n",
       "    </tr>\n",
       "    <tr>\n",
       "      <th>14</th>\n",
       "      <td>Xanthomonas</td>\n",
       "      <td>6</td>\n",
       "    </tr>\n",
       "    <tr>\n",
       "      <th>15</th>\n",
       "      <td>uncultured</td>\n",
       "      <td>5</td>\n",
       "    </tr>\n",
       "    <tr>\n",
       "      <th>16</th>\n",
       "      <td>Clostridium</td>\n",
       "      <td>4</td>\n",
       "    </tr>\n",
       "    <tr>\n",
       "      <th>17</th>\n",
       "      <td>Colwellia</td>\n",
       "      <td>3</td>\n",
       "    </tr>\n",
       "    <tr>\n",
       "      <th>18</th>\n",
       "      <td>Paenibacillus</td>\n",
       "      <td>3</td>\n",
       "    </tr>\n",
       "    <tr>\n",
       "      <th>19</th>\n",
       "      <td>Dickeya</td>\n",
       "      <td>3</td>\n",
       "    </tr>\n",
       "  </tbody>\n",
       "</table>\n",
       "</div>"
      ],
      "text/plain": [
       "               Genera  Number of PULs\n",
       "0         Bacteroides              87\n",
       "1     Bifidobacterium              21\n",
       "2          Prevotella              20\n",
       "3      Flavobacterium              12\n",
       "4   Ruminiclostridium              11\n",
       "5   Pseudoalteromonas              10\n",
       "6            Bacillus              10\n",
       "7       Lactobacillus               9\n",
       "8            Zobellia               8\n",
       "9       Streptococcus               7\n",
       "10           Gramella               7\n",
       "11        Geobacillus               7\n",
       "12        Alteromonas               6\n",
       "13             Vibrio               6\n",
       "14        Xanthomonas               6\n",
       "15         uncultured               5\n",
       "16        Clostridium               4\n",
       "17          Colwellia               3\n",
       "18      Paenibacillus               3\n",
       "19            Dickeya               3"
      ]
     },
     "execution_count": 75,
     "metadata": {},
     "output_type": "execute_result"
    }
   ],
   "source": [
    "count_df_Genera = pd.DataFrame(data.Genera.value_counts()).reset_index()\n",
    "\n",
    "count_df_Genera.columns = [\"Genera\", \"Number of PULs\"]\n",
    "\n",
    "count_df_Genera.head(20)"
   ]
  },
  {
   "cell_type": "code",
   "execution_count": 76,
   "id": "e9b5ef17",
   "metadata": {},
   "outputs": [],
   "source": [
    "D = dict(data.Genera.value_counts()[:20])"
   ]
  },
  {
   "cell_type": "code",
   "execution_count": 77,
   "id": "8503ffec",
   "metadata": {},
   "outputs": [
    {
     "data": {
      "image/png": "[encoded data removed]",
      "text/plain": [
       "<Figure size 720x720 with 1 Axes>"
      ]
     },
     "metadata": {
      "needs_background": "light"
     },
     "output_type": "display_data"
    }
   ],
   "source": [
    "plt.figure(figsize = (10,10))\n",
    "ax = sns.barplot(y=\"Genera\", x=\"Number of PULs\", data=count_df_Genera.head(20))\n",
    "# put the labels but rotate them\n",
    "plt.yticks(range(len(D)), list(D.keys()), weight = \"bold\", fontsize=14)\n",
    "# increase the ticks on y\n",
    "plt.xticks(fontsize=14)\n",
    "# give labels to x\n",
    "plt.xlabel(\"Number of PULs\", weight = \"bold\", fontsize = 20)\n",
    "# give labels to y\n",
    "plt.ylabel(\"Genera\", weight = \"bold\", fontsize = 20)\n",
    "# put the title\n",
    "# plt.title(\"Frequencies for the Genera\", weight = \"bold\", fontsize = 20)\n",
    "plt.savefig('genera_frequencies.png', \n",
    "           bbox_inches='tight')\n",
    "plt.show()"
   ]
  },
  {
   "cell_type": "code",
   "execution_count": 78,
   "id": "594eb453",
   "metadata": {},
   "outputs": [],
   "source": [
    "doc_vectors_df = doc_vectors_df.sort_values(\"high_level_substr\")"
   ]
  },
  {
   "cell_type": "code",
   "execution_count": 79,
   "id": "67b0b98e",
   "metadata": {},
   "outputs": [
    {
     "data": {
      "text/plain": [
       "X                                     106\n",
       "beta-glucan                            44\n",
       "xylan                                  41\n",
       "pectin                                 39\n",
       "host glycan                            33\n",
       "galactan                               28\n",
       "beta-mannan                            26\n",
       "alpha-glucan                           22\n",
       "alginate                               21\n",
       "arabinogalactan                        17\n",
       "chitin                                 15\n",
       "alpha-mannan                            8\n",
       "fructan                                 7\n",
       "capsule polysaccharide degradation      4\n",
       "Name: high_level_substr, dtype: int64"
      ]
     },
     "execution_count": 79,
     "metadata": {},
     "output_type": "execute_result"
    }
   ],
   "source": [
    "doc_vectors_df[\"high_level_substr\"].value_counts()"
   ]
  },
  {
   "cell_type": "code",
   "execution_count": 80,
   "id": "6d6429d1",
   "metadata": {},
   "outputs": [],
   "source": [
    "doc_vectors_df = doc_vectors_df[doc_vectors_df[\"high_level_substr\"] != \"X\"]"
   ]
  },
  {
   "cell_type": "code",
   "execution_count": 81,
   "id": "a0e7f4bd",
   "metadata": {},
   "outputs": [
    {
     "data": {
      "text/plain": [
       "(305, 301)"
      ]
     },
     "execution_count": 81,
     "metadata": {},
     "output_type": "execute_result"
    }
   ],
   "source": [
    "doc_vectors_df.shape"
   ]
  },
  {
   "cell_type": "code",
   "execution_count": 82,
   "id": "59dfc204",
   "metadata": {},
   "outputs": [
    {
     "data": {
      "text/plain": [
       "beta-glucan                           44\n",
       "xylan                                 41\n",
       "pectin                                39\n",
       "host glycan                           33\n",
       "galactan                              28\n",
       "beta-mannan                           26\n",
       "alpha-glucan                          22\n",
       "alginate                              21\n",
       "arabinogalactan                       17\n",
       "chitin                                15\n",
       "alpha-mannan                           8\n",
       "fructan                                7\n",
       "capsule polysaccharide degradation     4\n",
       "Name: high_level_substr, dtype: int64"
      ]
     },
     "execution_count": 82,
     "metadata": {},
     "output_type": "execute_result"
    }
   ],
   "source": [
    "doc_vectors_df[\"high_level_substr\"].value_counts()"
   ]
  },
  {
   "cell_type": "code",
   "execution_count": 83,
   "id": "1d859772",
   "metadata": {},
   "outputs": [],
   "source": [
    "averaged_doc_vecs = doc_vectors_df.groupby(\"high_level_substr\").mean()"
   ]
  },
  {
   "cell_type": "code",
   "execution_count": 84,
   "id": "3fdae813",
   "metadata": {},
   "outputs": [
    {
     "data": {
      "text/html": [
       "<div>\n",
       "<style scoped>\n",
       "    .dataframe tbody tr th:only-of-type {\n",
       "        vertical-align: middle;\n",
       "    }\n",
       "\n",
       "    .dataframe tbody tr th {\n",
       "        vertical-align: top;\n",
       "    }\n",
       "\n",
       "    .dataframe thead th {\n",
       "        text-align: right;\n",
       "    }\n",
       "</style>\n",
       "<table border=\"1\" class=\"dataframe\">\n",
       "  <thead>\n",
       "    <tr style=\"text-align: right;\">\n",
       "      <th></th>\n",
       "      <th>0</th>\n",
       "      <th>1</th>\n",
       "      <th>2</th>\n",
       "      <th>3</th>\n",
       "      <th>4</th>\n",
       "      <th>5</th>\n",
       "      <th>6</th>\n",
       "      <th>7</th>\n",
       "      <th>8</th>\n",
       "      <th>9</th>\n",
       "      <th>...</th>\n",
       "      <th>290</th>\n",
       "      <th>291</th>\n",
       "      <th>292</th>\n",
       "      <th>293</th>\n",
       "      <th>294</th>\n",
       "      <th>295</th>\n",
       "      <th>296</th>\n",
       "      <th>297</th>\n",
       "      <th>298</th>\n",
       "      <th>299</th>\n",
       "    </tr>\n",
       "    <tr>\n",
       "      <th>high_level_substr</th>\n",
       "      <th></th>\n",
       "      <th></th>\n",
       "      <th></th>\n",
       "      <th></th>\n",
       "      <th></th>\n",
       "      <th></th>\n",
       "      <th></th>\n",
       "      <th></th>\n",
       "      <th></th>\n",
       "      <th></th>\n",
       "      <th></th>\n",
       "      <th></th>\n",
       "      <th></th>\n",
       "      <th></th>\n",
       "      <th></th>\n",
       "      <th></th>\n",
       "      <th></th>\n",
       "      <th></th>\n",
       "      <th></th>\n",
       "      <th></th>\n",
       "      <th></th>\n",
       "    </tr>\n",
       "  </thead>\n",
       "  <tbody>\n",
       "    <tr>\n",
       "      <th>alginate</th>\n",
       "      <td>0.015821</td>\n",
       "      <td>0.149354</td>\n",
       "      <td>0.153446</td>\n",
       "      <td>-0.122621</td>\n",
       "      <td>-0.279110</td>\n",
       "      <td>-0.151984</td>\n",
       "      <td>-0.066834</td>\n",
       "      <td>-0.066379</td>\n",
       "      <td>0.001334</td>\n",
       "      <td>-0.124201</td>\n",
       "      <td>...</td>\n",
       "      <td>0.166421</td>\n",
       "      <td>0.013090</td>\n",
       "      <td>0.133635</td>\n",
       "      <td>-0.056864</td>\n",
       "      <td>0.029773</td>\n",
       "      <td>0.005735</td>\n",
       "      <td>-0.205301</td>\n",
       "      <td>-0.106647</td>\n",
       "      <td>0.081985</td>\n",
       "      <td>0.032077</td>\n",
       "    </tr>\n",
       "    <tr>\n",
       "      <th>alpha-glucan</th>\n",
       "      <td>-0.024038</td>\n",
       "      <td>0.170983</td>\n",
       "      <td>0.124069</td>\n",
       "      <td>-0.036195</td>\n",
       "      <td>-0.189831</td>\n",
       "      <td>-0.028308</td>\n",
       "      <td>0.015593</td>\n",
       "      <td>0.081938</td>\n",
       "      <td>-0.010169</td>\n",
       "      <td>0.016762</td>\n",
       "      <td>...</td>\n",
       "      <td>0.082320</td>\n",
       "      <td>-0.125889</td>\n",
       "      <td>0.108514</td>\n",
       "      <td>-0.004914</td>\n",
       "      <td>0.038289</td>\n",
       "      <td>0.037142</td>\n",
       "      <td>-0.075975</td>\n",
       "      <td>-0.044182</td>\n",
       "      <td>0.167364</td>\n",
       "      <td>0.016651</td>\n",
       "    </tr>\n",
       "    <tr>\n",
       "      <th>alpha-mannan</th>\n",
       "      <td>-0.146054</td>\n",
       "      <td>-0.005217</td>\n",
       "      <td>0.082620</td>\n",
       "      <td>-0.027665</td>\n",
       "      <td>-0.084784</td>\n",
       "      <td>-0.106767</td>\n",
       "      <td>0.015006</td>\n",
       "      <td>0.039506</td>\n",
       "      <td>-0.135169</td>\n",
       "      <td>-0.053901</td>\n",
       "      <td>...</td>\n",
       "      <td>0.095904</td>\n",
       "      <td>0.020043</td>\n",
       "      <td>0.046786</td>\n",
       "      <td>-0.038808</td>\n",
       "      <td>0.147157</td>\n",
       "      <td>0.007715</td>\n",
       "      <td>0.022789</td>\n",
       "      <td>-0.160713</td>\n",
       "      <td>0.048893</td>\n",
       "      <td>-0.046385</td>\n",
       "    </tr>\n",
       "    <tr>\n",
       "      <th>arabinogalactan</th>\n",
       "      <td>0.030572</td>\n",
       "      <td>0.104623</td>\n",
       "      <td>0.112186</td>\n",
       "      <td>-0.007257</td>\n",
       "      <td>-0.196095</td>\n",
       "      <td>-0.112785</td>\n",
       "      <td>-0.024339</td>\n",
       "      <td>0.065660</td>\n",
       "      <td>-0.030693</td>\n",
       "      <td>-0.068681</td>\n",
       "      <td>...</td>\n",
       "      <td>0.075192</td>\n",
       "      <td>0.038491</td>\n",
       "      <td>0.124871</td>\n",
       "      <td>-0.056764</td>\n",
       "      <td>0.080305</td>\n",
       "      <td>0.036467</td>\n",
       "      <td>0.066738</td>\n",
       "      <td>-0.218699</td>\n",
       "      <td>0.057296</td>\n",
       "      <td>-0.129938</td>\n",
       "    </tr>\n",
       "    <tr>\n",
       "      <th>beta-glucan</th>\n",
       "      <td>-0.074465</td>\n",
       "      <td>0.091019</td>\n",
       "      <td>0.015337</td>\n",
       "      <td>-0.083969</td>\n",
       "      <td>-0.244915</td>\n",
       "      <td>-0.023962</td>\n",
       "      <td>-0.036887</td>\n",
       "      <td>0.011070</td>\n",
       "      <td>0.051675</td>\n",
       "      <td>-0.085969</td>\n",
       "      <td>...</td>\n",
       "      <td>0.185935</td>\n",
       "      <td>-0.063727</td>\n",
       "      <td>0.152306</td>\n",
       "      <td>-0.052830</td>\n",
       "      <td>0.068271</td>\n",
       "      <td>0.054803</td>\n",
       "      <td>0.036826</td>\n",
       "      <td>-0.166166</td>\n",
       "      <td>0.121708</td>\n",
       "      <td>-0.130131</td>\n",
       "    </tr>\n",
       "    <tr>\n",
       "      <th>beta-mannan</th>\n",
       "      <td>-0.005212</td>\n",
       "      <td>0.121970</td>\n",
       "      <td>0.056261</td>\n",
       "      <td>0.005363</td>\n",
       "      <td>-0.218482</td>\n",
       "      <td>-0.038447</td>\n",
       "      <td>-0.007194</td>\n",
       "      <td>0.102950</td>\n",
       "      <td>-0.003227</td>\n",
       "      <td>-0.074850</td>\n",
       "      <td>...</td>\n",
       "      <td>0.096593</td>\n",
       "      <td>0.005775</td>\n",
       "      <td>0.111040</td>\n",
       "      <td>-0.009604</td>\n",
       "      <td>0.038758</td>\n",
       "      <td>-0.022391</td>\n",
       "      <td>-0.044531</td>\n",
       "      <td>-0.164243</td>\n",
       "      <td>0.115144</td>\n",
       "      <td>-0.118572</td>\n",
       "    </tr>\n",
       "    <tr>\n",
       "      <th>capsule polysaccharide degradation</th>\n",
       "      <td>-0.110990</td>\n",
       "      <td>0.190437</td>\n",
       "      <td>0.045999</td>\n",
       "      <td>-0.086860</td>\n",
       "      <td>-0.181018</td>\n",
       "      <td>-0.088151</td>\n",
       "      <td>0.073975</td>\n",
       "      <td>0.000574</td>\n",
       "      <td>-0.006943</td>\n",
       "      <td>0.043336</td>\n",
       "      <td>...</td>\n",
       "      <td>0.120439</td>\n",
       "      <td>-0.008909</td>\n",
       "      <td>0.117272</td>\n",
       "      <td>-0.048821</td>\n",
       "      <td>0.172455</td>\n",
       "      <td>0.015755</td>\n",
       "      <td>-0.103584</td>\n",
       "      <td>-0.051976</td>\n",
       "      <td>0.130649</td>\n",
       "      <td>0.003416</td>\n",
       "    </tr>\n",
       "    <tr>\n",
       "      <th>chitin</th>\n",
       "      <td>-0.017290</td>\n",
       "      <td>-0.060460</td>\n",
       "      <td>0.037245</td>\n",
       "      <td>-0.003897</td>\n",
       "      <td>-0.181891</td>\n",
       "      <td>-0.020754</td>\n",
       "      <td>-0.020906</td>\n",
       "      <td>0.026531</td>\n",
       "      <td>0.034579</td>\n",
       "      <td>-0.067445</td>\n",
       "      <td>...</td>\n",
       "      <td>0.132058</td>\n",
       "      <td>-0.082163</td>\n",
       "      <td>0.226031</td>\n",
       "      <td>0.007348</td>\n",
       "      <td>0.014525</td>\n",
       "      <td>-0.017258</td>\n",
       "      <td>0.140597</td>\n",
       "      <td>-0.122500</td>\n",
       "      <td>-0.001185</td>\n",
       "      <td>-0.129090</td>\n",
       "    </tr>\n",
       "    <tr>\n",
       "      <th>fructan</th>\n",
       "      <td>-0.009371</td>\n",
       "      <td>0.062289</td>\n",
       "      <td>0.085651</td>\n",
       "      <td>0.041536</td>\n",
       "      <td>-0.294661</td>\n",
       "      <td>-0.142603</td>\n",
       "      <td>0.050560</td>\n",
       "      <td>0.014057</td>\n",
       "      <td>-0.040557</td>\n",
       "      <td>-0.001542</td>\n",
       "      <td>...</td>\n",
       "      <td>0.034082</td>\n",
       "      <td>-0.023782</td>\n",
       "      <td>0.264480</td>\n",
       "      <td>-0.017392</td>\n",
       "      <td>0.193974</td>\n",
       "      <td>-0.117852</td>\n",
       "      <td>0.142023</td>\n",
       "      <td>-0.180516</td>\n",
       "      <td>0.217102</td>\n",
       "      <td>-0.139148</td>\n",
       "    </tr>\n",
       "    <tr>\n",
       "      <th>galactan</th>\n",
       "      <td>-0.012200</td>\n",
       "      <td>0.087064</td>\n",
       "      <td>0.043336</td>\n",
       "      <td>-0.035143</td>\n",
       "      <td>-0.129539</td>\n",
       "      <td>-0.109116</td>\n",
       "      <td>0.035149</td>\n",
       "      <td>0.044530</td>\n",
       "      <td>-0.078314</td>\n",
       "      <td>-0.052822</td>\n",
       "      <td>...</td>\n",
       "      <td>0.142935</td>\n",
       "      <td>-0.035492</td>\n",
       "      <td>0.123485</td>\n",
       "      <td>-0.058345</td>\n",
       "      <td>0.072701</td>\n",
       "      <td>-0.024061</td>\n",
       "      <td>0.029932</td>\n",
       "      <td>-0.155767</td>\n",
       "      <td>0.015332</td>\n",
       "      <td>-0.054143</td>\n",
       "    </tr>\n",
       "    <tr>\n",
       "      <th>host glycan</th>\n",
       "      <td>-0.069059</td>\n",
       "      <td>0.075898</td>\n",
       "      <td>0.018251</td>\n",
       "      <td>-0.046618</td>\n",
       "      <td>-0.224041</td>\n",
       "      <td>-0.114606</td>\n",
       "      <td>-0.034455</td>\n",
       "      <td>0.074144</td>\n",
       "      <td>-0.076355</td>\n",
       "      <td>-0.042038</td>\n",
       "      <td>...</td>\n",
       "      <td>0.107401</td>\n",
       "      <td>0.031650</td>\n",
       "      <td>0.153265</td>\n",
       "      <td>-0.078720</td>\n",
       "      <td>0.125630</td>\n",
       "      <td>-0.010089</td>\n",
       "      <td>0.066712</td>\n",
       "      <td>-0.073633</td>\n",
       "      <td>0.057815</td>\n",
       "      <td>-0.000056</td>\n",
       "    </tr>\n",
       "    <tr>\n",
       "      <th>pectin</th>\n",
       "      <td>0.000065</td>\n",
       "      <td>0.167007</td>\n",
       "      <td>0.130880</td>\n",
       "      <td>-0.008878</td>\n",
       "      <td>-0.194102</td>\n",
       "      <td>-0.069050</td>\n",
       "      <td>-0.043880</td>\n",
       "      <td>0.018203</td>\n",
       "      <td>-0.036078</td>\n",
       "      <td>-0.053247</td>\n",
       "      <td>...</td>\n",
       "      <td>0.050609</td>\n",
       "      <td>0.019583</td>\n",
       "      <td>0.084386</td>\n",
       "      <td>-0.012453</td>\n",
       "      <td>0.113024</td>\n",
       "      <td>0.061557</td>\n",
       "      <td>-0.048751</td>\n",
       "      <td>-0.190393</td>\n",
       "      <td>0.049709</td>\n",
       "      <td>-0.042350</td>\n",
       "    </tr>\n",
       "    <tr>\n",
       "      <th>xylan</th>\n",
       "      <td>-0.001019</td>\n",
       "      <td>0.142520</td>\n",
       "      <td>0.060848</td>\n",
       "      <td>0.029632</td>\n",
       "      <td>-0.174476</td>\n",
       "      <td>-0.062634</td>\n",
       "      <td>0.018610</td>\n",
       "      <td>-0.003897</td>\n",
       "      <td>0.014793</td>\n",
       "      <td>-0.062226</td>\n",
       "      <td>...</td>\n",
       "      <td>0.074910</td>\n",
       "      <td>-0.049509</td>\n",
       "      <td>0.200098</td>\n",
       "      <td>-0.076342</td>\n",
       "      <td>0.060969</td>\n",
       "      <td>0.087762</td>\n",
       "      <td>0.079903</td>\n",
       "      <td>-0.188928</td>\n",
       "      <td>0.088164</td>\n",
       "      <td>-0.107616</td>\n",
       "    </tr>\n",
       "  </tbody>\n",
       "</table>\n",
       "<p>13 rows × 300 columns</p>\n",
       "</div>"
      ],
      "text/plain": [
       "                                         0         1         2         3    \\\n",
       "high_level_substr                                                            \n",
       "alginate                            0.015821  0.149354  0.153446 -0.122621   \n",
       "alpha-glucan                       -0.024038  0.170983  0.124069 -0.036195   \n",
       "alpha-mannan                       -0.146054 -0.005217  0.082620 -0.027665   \n",
       "arabinogalactan                     0.030572  0.104623  0.112186 -0.007257   \n",
       "beta-glucan                        -0.074465  0.091019  0.015337 -0.083969   \n",
       "beta-mannan                        -0.005212  0.121970  0.056261  0.005363   \n",
       "capsule polysaccharide degradation -0.110990  0.190437  0.045999 -0.086860   \n",
       "chitin                             -0.017290 -0.060460  0.037245 -0.003897   \n",
       "fructan                            -0.009371  0.062289  0.085651  0.041536   \n",
       "galactan                           -0.012200  0.087064  0.043336 -0.035143   \n",
       "host glycan                        -0.069059  0.075898  0.018251 -0.046618   \n",
       "pectin                              0.000065  0.167007  0.130880 -0.008878   \n",
       "xylan                              -0.001019  0.142520  0.060848  0.029632   \n",
       "\n",
       "                                         4         5         6         7    \\\n",
       "high_level_substr                                                            \n",
       "alginate                           -0.279110 -0.151984 -0.066834 -0.066379   \n",
       "alpha-glucan                       -0.189831 -0.028308  0.015593  0.081938   \n",
       "alpha-mannan                       -0.084784 -0.106767  0.015006  0.039506   \n",
       "arabinogalactan                    -0.196095 -0.112785 -0.024339  0.065660   \n",
       "beta-glucan                        -0.244915 -0.023962 -0.036887  0.011070   \n",
       "beta-mannan                        -0.218482 -0.038447 -0.007194  0.102950   \n",
       "capsule polysaccharide degradation -0.181018 -0.088151  0.073975  0.000574   \n",
       "chitin                             -0.181891 -0.020754 -0.020906  0.026531   \n",
       "fructan                            -0.294661 -0.142603  0.050560  0.014057   \n",
       "galactan                           -0.129539 -0.109116  0.035149  0.044530   \n",
       "host glycan                        -0.224041 -0.114606 -0.034455  0.074144   \n",
       "pectin                             -0.194102 -0.069050 -0.043880  0.018203   \n",
       "xylan                              -0.174476 -0.062634  0.018610 -0.003897   \n",
       "\n",
       "                                         8         9    ...       290  \\\n",
       "high_level_substr                                       ...             \n",
       "alginate                            0.001334 -0.124201  ...  0.166421   \n",
       "alpha-glucan                       -0.010169  0.016762  ...  0.082320   \n",
       "alpha-mannan                       -0.135169 -0.053901  ...  0.095904   \n",
       "arabinogalactan                    -0.030693 -0.068681  ...  0.075192   \n",
       "beta-glucan                         0.051675 -0.085969  ...  0.185935   \n",
       "beta-mannan                        -0.003227 -0.074850  ...  0.096593   \n",
       "capsule polysaccharide degradation -0.006943  0.043336  ...  0.120439   \n",
       "chitin                              0.034579 -0.067445  ...  0.132058   \n",
       "fructan                            -0.040557 -0.001542  ...  0.034082   \n",
       "galactan                           -0.078314 -0.052822  ...  0.142935   \n",
       "host glycan                        -0.076355 -0.042038  ...  0.107401   \n",
       "pectin                             -0.036078 -0.053247  ...  0.050609   \n",
       "xylan                               0.014793 -0.062226  ...  0.074910   \n",
       "\n",
       "                                         291       292       293       294  \\\n",
       "high_level_substr                                                            \n",
       "alginate                            0.013090  0.133635 -0.056864  0.029773   \n",
       "alpha-glucan                       -0.125889  0.108514 -0.004914  0.038289   \n",
       "alpha-mannan                        0.020043  0.046786 -0.038808  0.147157   \n",
       "arabinogalactan                     0.038491  0.124871 -0.056764  0.080305   \n",
       "beta-glucan                        -0.063727  0.152306 -0.052830  0.068271   \n",
       "beta-mannan                         0.005775  0.111040 -0.009604  0.038758   \n",
       "capsule polysaccharide degradation -0.008909  0.117272 -0.048821  0.172455   \n",
       "chitin                             -0.082163  0.226031  0.007348  0.014525   \n",
       "fructan                            -0.023782  0.264480 -0.017392  0.193974   \n",
       "galactan                           -0.035492  0.123485 -0.058345  0.072701   \n",
       "host glycan                         0.031650  0.153265 -0.078720  0.125630   \n",
       "pectin                              0.019583  0.084386 -0.012453  0.113024   \n",
       "xylan                              -0.049509  0.200098 -0.076342  0.060969   \n",
       "\n",
       "                                         295       296       297       298  \\\n",
       "high_level_substr                                                            \n",
       "alginate                            0.005735 -0.205301 -0.106647  0.081985   \n",
       "alpha-glucan                        0.037142 -0.075975 -0.044182  0.167364   \n",
       "alpha-mannan                        0.007715  0.022789 -0.160713  0.048893   \n",
       "arabinogalactan                     0.036467  0.066738 -0.218699  0.057296   \n",
       "beta-glucan                         0.054803  0.036826 -0.166166  0.121708   \n",
       "beta-mannan                        -0.022391 -0.044531 -0.164243  0.115144   \n",
       "capsule polysaccharide degradation  0.015755 -0.103584 -0.051976  0.130649   \n",
       "chitin                             -0.017258  0.140597 -0.122500 -0.001185   \n",
       "fructan                            -0.117852  0.142023 -0.180516  0.217102   \n",
       "galactan                           -0.024061  0.029932 -0.155767  0.015332   \n",
       "host glycan                        -0.010089  0.066712 -0.073633  0.057815   \n",
       "pectin                              0.061557 -0.048751 -0.190393  0.049709   \n",
       "xylan                               0.087762  0.079903 -0.188928  0.088164   \n",
       "\n",
       "                                         299  \n",
       "high_level_substr                             \n",
       "alginate                            0.032077  \n",
       "alpha-glucan                        0.016651  \n",
       "alpha-mannan                       -0.046385  \n",
       "arabinogalactan                    -0.129938  \n",
       "beta-glucan                        -0.130131  \n",
       "beta-mannan                        -0.118572  \n",
       "capsule polysaccharide degradation  0.003416  \n",
       "chitin                             -0.129090  \n",
       "fructan                            -0.139148  \n",
       "galactan                           -0.054143  \n",
       "host glycan                        -0.000056  \n",
       "pectin                             -0.042350  \n",
       "xylan                              -0.107616  \n",
       "\n",
       "[13 rows x 300 columns]"
      ]
     },
     "execution_count": 84,
     "metadata": {},
     "output_type": "execute_result"
    }
   ],
   "source": [
    "averaged_doc_vecs"
   ]
  },
  {
   "cell_type": "code",
   "execution_count": 85,
   "id": "2c62e3fb",
   "metadata": {},
   "outputs": [],
   "source": [
    "# first get the lumped classes\n",
    "group1 = [\"pectin\", \"arabinan\", \"xylan\", \"cellulose\", 'galactan', 'fructan', 'beta-mannan', 'xyloglucan', \n",
    "         'glucomannan', \"galactomanan\", \"hemicellulose\", 'arabinogalactan']\n",
    "group2 = ['lichenan', 'beta-glucan', 'chitin', 'alpha-mannan']\n",
    "group3 = [\"O-glycan\", \"mucin\", \"N-glycan\", \"lactose\", \"host glycan\", 'glycosaminoglycan']\n",
    "group4 = [\"sucrose\", \"starch\", 'alpha-glucan']\n",
    "# group5 = ['O-antigen_biosynthesis', 'capsule polysaccharide_biosynthesis', \"exopolysaccharide_biosynthesis\"]\n",
    "group6 = ['O-antigen_degradation', 'capsule polysaccharide degradation', \"exopolysaccharide_degradation\"]\n",
    "group7 = [\"alginate\", 'algal glycans']\n",
    "\n",
    "\n",
    "all_groups = [group1, group2, group3, group4, group6, group7]"
   ]
  },
  {
   "cell_type": "code",
   "execution_count": 86,
   "id": "5a76a024",
   "metadata": {},
   "outputs": [],
   "source": [
    "from scipy.cluster import hierarchy"
   ]
  },
  {
   "cell_type": "code",
   "execution_count": 87,
   "id": "225c3ce5",
   "metadata": {},
   "outputs": [],
   "source": [
    "temp = hierarchy.linkage(averaged_doc_vecs, 'ward')"
   ]
  },
  {
   "cell_type": "code",
   "execution_count": 88,
   "id": "aa75846a",
   "metadata": {},
   "outputs": [],
   "source": [
    "from matplotlib.lines import Line2D"
   ]
  },
  {
   "cell_type": "code",
   "execution_count": 89,
   "id": "0c907923",
   "metadata": {},
   "outputs": [],
   "source": [
    "line_plants = Line2D([0], [0], label='Plants', color='r')\n",
    "line_fungi = Line2D([0], [0], label='Fungi', color='b')\n",
    "line_animals = Line2D([0], [0], label='Animals', color='g')\n",
    "line_storage = Line2D([0], [0], label='Storage', color='y')\n",
    "line_microbe_syn = Line2D([0], [0], label='Microbe(synthesis)', color='k')\n",
    "line_microbe_deg = Line2D([0], [0], label='Microbe(degradation)', color='m')\n",
    "line_algae = Line2D([0], [0], label='Algae', color='c')\n"
   ]
  },
  {
   "cell_type": "code",
   "execution_count": 90,
   "id": "ee15cd23",
   "metadata": {},
   "outputs": [
    {
     "data": {
      "image/png": "[encoded data removed]",
      "text/plain": [
       "<Figure size 1440x1080 with 1 Axes>"
      ]
     },
     "metadata": {},
     "output_type": "display_data"
    }
   ],
   "source": [
    "plt.figure(figsize = (20,15))\n",
    "dn = hierarchy.dendrogram(\n",
    "    temp, orientation='right', labels = averaged_doc_vecs.index)\n",
    "for ticklabel in plt.gca().get_yticklabels():\n",
    "    if ticklabel.get_text() in group1: \n",
    "        ticklabel.set_color(\"r\")\n",
    "    elif ticklabel.get_text() in group2: \n",
    "        ticklabel.set_color(\"b\")\n",
    "    elif ticklabel.get_text() in group3: \n",
    "        ticklabel.set_color(\"g\")\n",
    "    elif ticklabel.get_text() in group4: \n",
    "        ticklabel.set_color(\"y\")\n",
    "#     elif ticklabel.get_text() in group5: \n",
    "#         ticklabel.set_color(\"k\")\n",
    "    elif ticklabel.get_text() in group6: \n",
    "        ticklabel.set_color(\"m\")        \n",
    "    else: \n",
    "        ticklabel.set_color(\"c\") \n",
    "plt.xlabel(\"Euclidean Distance\", weight = \"bold\", fontsize = 25)\n",
    "plt.xticks(fontsize = 20)\n",
    "plt.yticks(fontsize = 20)\n",
    "# give labels to y\n",
    "plt.ylabel(\"High level substrates\", weight = \"bold\", fontsize = 25)\n",
    "# put the title\n",
    "# plt.title(\"Hierarchical clustering dendogram\", weight = \"bold\", fontsize = 20)       \n",
    "handles, labels = plt.gca().get_legend_handles_labels()\n",
    "handles.extend([line_plants, line_fungi, line_animals, line_storage, line_microbe_syn, line_algae, line_microbe_deg])\n",
    "plt.legend(handles=handles, fontsize = 20)\n",
    "plt.show()\n"
   ]
  },
  {
   "cell_type": "code",
   "execution_count": 91,
   "id": "42cf4b9d",
   "metadata": {},
   "outputs": [],
   "source": [
    "# from sklearn.feature_extraction.text import CountVectorizer"
   ]
  },
  {
   "cell_type": "code",
   "execution_count": 92,
   "id": "085985de",
   "metadata": {},
   "outputs": [],
   "source": [
    "# count_vec = CountVectorizer(tokenizer=lambda x: str(x).replace(\"|\", \",\").split(','), lowercase = False)\n"
   ]
  },
  {
   "cell_type": "code",
   "execution_count": 93,
   "id": "6592d29b",
   "metadata": {},
   "outputs": [],
   "source": [
    "# count_vec.fit(data[\"sig_gene_seq\"])"
   ]
  },
  {
   "cell_type": "code",
   "execution_count": 94,
   "id": "a93e87dd",
   "metadata": {},
   "outputs": [],
   "source": [
    "# doc_vectors_df = count_vec.transform(data[\"sig_gene_seq\"])"
   ]
  },
  {
   "cell_type": "code",
   "execution_count": 95,
   "id": "a21e1b24",
   "metadata": {},
   "outputs": [],
   "source": [
    "# doc_vectors_df = pd.DataFrame(doc_vectors_df.toarray())\n",
    "\n",
    "# doc_vectors_df[\"high_level_substr\"] = data[[\"high_level_substr\"]].values\n",
    "\n",
    "# doc_vectors_df.shape"
   ]
  },
  {
   "cell_type": "code",
   "execution_count": 96,
   "id": "97f0dbdf",
   "metadata": {},
   "outputs": [],
   "source": [
    "# averaged_doc_vecs = doc_vectors_df.groupby(\"high_level_substr\").mean()"
   ]
  },
  {
   "cell_type": "code",
   "execution_count": 97,
   "id": "abe327ef",
   "metadata": {},
   "outputs": [],
   "source": [
    "# averaged_doc_vecs.head()"
   ]
  },
  {
   "cell_type": "code",
   "execution_count": 98,
   "id": "905455aa",
   "metadata": {},
   "outputs": [],
   "source": [
    "# temp = hierarchy.linkage(averaged_doc_vecs, 'ward')"
   ]
  },
  {
   "cell_type": "code",
   "execution_count": 99,
   "id": "c37a0386",
   "metadata": {},
   "outputs": [],
   "source": [
    "# plt.figure(figsize = (10,5))\n",
    "# dn = hierarchy.dendrogram(\n",
    "#     temp, orientation='right', labels = averaged_doc_vecs.index)\n",
    "# for ticklabel in plt.gca().get_yticklabels():\n",
    "#     if ticklabel.get_text() in group1: \n",
    "#         ticklabel.set_color(\"r\")\n",
    "#     elif ticklabel.get_text() in group2: \n",
    "#         ticklabel.set_color(\"b\")\n",
    "#     elif ticklabel.get_text() in group3: \n",
    "#         ticklabel.set_color(\"g\")\n",
    "#     elif ticklabel.get_text() in group4: \n",
    "#         ticklabel.set_color(\"y\")\n",
    "#     elif ticklabel.get_text() in group5: \n",
    "#         ticklabel.set_color(\"k\")\n",
    "#     elif ticklabel.get_text() in group6: \n",
    "#         ticklabel.set_color(\"m\")        \n",
    "#     else: \n",
    "#         ticklabel.set_color(\"c\") \n",
    "# plt.xlabel(\"Euclidean Distance\", weight = \"bold\", fontsize = 20)\n",
    "# # give labels to y\n",
    "# plt.ylabel(\"High level substrates\", weight = \"bold\", fontsize = 20)\n",
    "# # put the title\n",
    "# plt.title(\"Hierarchical clustering dendogram\", weight = \"bold\", fontsize = 20)       \n",
    "# plt.show()"
   ]
  },
  {
   "cell_type": "code",
   "execution_count": 100,
   "id": "c93969f1",
   "metadata": {},
   "outputs": [],
   "source": [
    "## replicate plot3 first\n",
    "## need to have like cazymes,stps, by types\n",
    "sig_gene = pd.read_csv(r\"../Data/Supervised_Sequences/signature_gene_reference.tsv\", sep = \"\\t\", header = None)"
   ]
  },
  {
   "cell_type": "code",
   "execution_count": 101,
   "id": "36e5e252",
   "metadata": {},
   "outputs": [],
   "source": [
    "sig_gene.columns = [\"Gene_Type\", \"Gene\"]"
   ]
  },
  {
   "cell_type": "code",
   "execution_count": 102,
   "id": "80d95104",
   "metadata": {},
   "outputs": [],
   "source": [
    "# sig_gene[\"Gene\"] = [gene.split(\"_\")[0] for gene in sig_gene[\"Gene\"]]"
   ]
  },
  {
   "cell_type": "code",
   "execution_count": 103,
   "id": "897ea57b",
   "metadata": {},
   "outputs": [],
   "source": [
    "# sig_gene = sig_gene.drop_duplicates()"
   ]
  },
  {
   "cell_type": "code",
   "execution_count": 104,
   "id": "4750894b",
   "metadata": {},
   "outputs": [],
   "source": [
    "from collections import Counter"
   ]
  },
  {
   "cell_type": "code",
   "execution_count": 105,
   "id": "34333435",
   "metadata": {},
   "outputs": [],
   "source": [
    "all_genes = [gene for seq in data[\"sig_gene_seq\"].values for gene in seq.replace(\"|\",\",\").split(\",\")]"
   ]
  },
  {
   "cell_type": "code",
   "execution_count": 106,
   "id": "4d7351c9",
   "metadata": {},
   "outputs": [],
   "source": [
    "all_genes = [item for item in all_genes]"
   ]
  },
  {
   "cell_type": "code",
   "execution_count": 107,
   "id": "29428c2d",
   "metadata": {},
   "outputs": [
    {
     "data": {
      "text/plain": [
       "['GH16',\n",
       " 'GH48',\n",
       " 'GH8',\n",
       " 'GH9',\n",
       " 'CBM3',\n",
       " 'CBM4',\n",
       " 'GH9',\n",
       " 'GH9',\n",
       " 'GH9',\n",
       " 'CBM3',\n",
       " 'GH5_17',\n",
       " 'GH9',\n",
       " 'PL11',\n",
       " 'GH5_1',\n",
       " 'GH3',\n",
       " 'GH2',\n",
       " 'GH31',\n",
       " 'HTH_AraC',\n",
       " 'GH9',\n",
       " '1.B.14']"
      ]
     },
     "execution_count": 107,
     "metadata": {},
     "output_type": "execute_result"
    }
   ],
   "source": [
    "all_genes[:20]"
   ]
  },
  {
   "cell_type": "code",
   "execution_count": 108,
   "id": "33f32bf4",
   "metadata": {},
   "outputs": [],
   "source": [
    "## some investigation on the genes let's do\n",
    "counter_dict = Counter(all_genes)"
   ]
  },
  {
   "cell_type": "code",
   "execution_count": 109,
   "id": "a21978b0",
   "metadata": {},
   "outputs": [],
   "source": [
    "# sort in descending order\n",
    "counter_dict =dict(sorted(counter_dict.items(), key=lambda item: item[1], reverse = True))"
   ]
  },
  {
   "cell_type": "code",
   "execution_count": 110,
   "id": "f78e0a2e",
   "metadata": {},
   "outputs": [],
   "source": [
    "# manipulate for plotting\n",
    "first2pairs = {k: counter_dict[k] for k in list(counter_dict)}"
   ]
  },
  {
   "cell_type": "code",
   "execution_count": 111,
   "id": "71e49e33",
   "metadata": {},
   "outputs": [],
   "source": [
    "gene_count_df = pd.DataFrame(first2pairs, index = [0]).T.reset_index()"
   ]
  },
  {
   "cell_type": "code",
   "execution_count": 112,
   "id": "b6cac1b9",
   "metadata": {},
   "outputs": [],
   "source": [
    "gene_count_df.columns = [\"Gene\", \"Frequency\"]"
   ]
  },
  {
   "cell_type": "code",
   "execution_count": 113,
   "id": "25ef3e75",
   "metadata": {},
   "outputs": [],
   "source": [
    "import numpy as np"
   ]
  },
  {
   "cell_type": "code",
   "execution_count": 114,
   "id": "19a6abd0",
   "metadata": {},
   "outputs": [],
   "source": [
    "max_features = 40"
   ]
  },
  {
   "cell_type": "code",
   "execution_count": 115,
   "id": "f6bfe9df",
   "metadata": {},
   "outputs": [
    {
     "data": {
      "text/html": [
       "<div>\n",
       "<style scoped>\n",
       "    .dataframe tbody tr th:only-of-type {\n",
       "        vertical-align: middle;\n",
       "    }\n",
       "\n",
       "    .dataframe tbody tr th {\n",
       "        vertical-align: top;\n",
       "    }\n",
       "\n",
       "    .dataframe thead th {\n",
       "        text-align: right;\n",
       "    }\n",
       "</style>\n",
       "<table border=\"1\" class=\"dataframe\">\n",
       "  <thead>\n",
       "    <tr style=\"text-align: right;\">\n",
       "      <th></th>\n",
       "      <th>Gene</th>\n",
       "      <th>Frequency</th>\n",
       "    </tr>\n",
       "  </thead>\n",
       "  <tbody>\n",
       "    <tr>\n",
       "      <th>0</th>\n",
       "      <td>3.A.1</td>\n",
       "      <td>215</td>\n",
       "    </tr>\n",
       "    <tr>\n",
       "      <th>1</th>\n",
       "      <td>1.B.14</td>\n",
       "      <td>205</td>\n",
       "    </tr>\n",
       "    <tr>\n",
       "      <th>2</th>\n",
       "      <td>HTH_AraC</td>\n",
       "      <td>100</td>\n",
       "    </tr>\n",
       "    <tr>\n",
       "      <th>3</th>\n",
       "      <td>8.A.46</td>\n",
       "      <td>63</td>\n",
       "    </tr>\n",
       "    <tr>\n",
       "      <th>4</th>\n",
       "      <td>GH2</td>\n",
       "      <td>58</td>\n",
       "    </tr>\n",
       "    <tr>\n",
       "      <th>5</th>\n",
       "      <td>LacI</td>\n",
       "      <td>58</td>\n",
       "    </tr>\n",
       "    <tr>\n",
       "      <th>6</th>\n",
       "      <td>CBM6</td>\n",
       "      <td>55</td>\n",
       "    </tr>\n",
       "    <tr>\n",
       "      <th>7</th>\n",
       "      <td>GH3</td>\n",
       "      <td>52</td>\n",
       "    </tr>\n",
       "    <tr>\n",
       "      <th>8</th>\n",
       "      <td>GH10</td>\n",
       "      <td>37</td>\n",
       "    </tr>\n",
       "    <tr>\n",
       "      <th>9</th>\n",
       "      <td>GntR</td>\n",
       "      <td>36</td>\n",
       "    </tr>\n",
       "    <tr>\n",
       "      <th>10</th>\n",
       "      <td>2.A.1</td>\n",
       "      <td>35</td>\n",
       "    </tr>\n",
       "    <tr>\n",
       "      <th>11</th>\n",
       "      <td>GH16</td>\n",
       "      <td>34</td>\n",
       "    </tr>\n",
       "    <tr>\n",
       "      <th>12</th>\n",
       "      <td>PfkB</td>\n",
       "      <td>32</td>\n",
       "    </tr>\n",
       "    <tr>\n",
       "      <th>13</th>\n",
       "      <td>2.A.2</td>\n",
       "      <td>31</td>\n",
       "    </tr>\n",
       "    <tr>\n",
       "      <th>14</th>\n",
       "      <td>GH28</td>\n",
       "      <td>31</td>\n",
       "    </tr>\n",
       "    <tr>\n",
       "      <th>15</th>\n",
       "      <td>GH105</td>\n",
       "      <td>28</td>\n",
       "    </tr>\n",
       "    <tr>\n",
       "      <th>16</th>\n",
       "      <td>GH9</td>\n",
       "      <td>26</td>\n",
       "    </tr>\n",
       "    <tr>\n",
       "      <th>17</th>\n",
       "      <td>SBP_bac_1</td>\n",
       "      <td>25</td>\n",
       "    </tr>\n",
       "    <tr>\n",
       "      <th>18</th>\n",
       "      <td>GH26</td>\n",
       "      <td>24</td>\n",
       "    </tr>\n",
       "    <tr>\n",
       "      <th>19</th>\n",
       "      <td>PL1_2</td>\n",
       "      <td>24</td>\n",
       "    </tr>\n",
       "    <tr>\n",
       "      <th>20</th>\n",
       "      <td>CE1</td>\n",
       "      <td>23</td>\n",
       "    </tr>\n",
       "    <tr>\n",
       "      <th>21</th>\n",
       "      <td>GH18</td>\n",
       "      <td>23</td>\n",
       "    </tr>\n",
       "    <tr>\n",
       "      <th>22</th>\n",
       "      <td>GH92</td>\n",
       "      <td>23</td>\n",
       "    </tr>\n",
       "    <tr>\n",
       "      <th>23</th>\n",
       "      <td>GH130</td>\n",
       "      <td>21</td>\n",
       "    </tr>\n",
       "    <tr>\n",
       "      <th>24</th>\n",
       "      <td>GH43_12</td>\n",
       "      <td>20</td>\n",
       "    </tr>\n",
       "    <tr>\n",
       "      <th>25</th>\n",
       "      <td>GH51</td>\n",
       "      <td>20</td>\n",
       "    </tr>\n",
       "    <tr>\n",
       "      <th>26</th>\n",
       "      <td>CE8</td>\n",
       "      <td>20</td>\n",
       "    </tr>\n",
       "    <tr>\n",
       "      <th>27</th>\n",
       "      <td>CE12</td>\n",
       "      <td>20</td>\n",
       "    </tr>\n",
       "    <tr>\n",
       "      <th>28</th>\n",
       "      <td>GH31</td>\n",
       "      <td>19</td>\n",
       "    </tr>\n",
       "    <tr>\n",
       "      <th>29</th>\n",
       "      <td>GH43_29</td>\n",
       "      <td>19</td>\n",
       "    </tr>\n",
       "    <tr>\n",
       "      <th>30</th>\n",
       "      <td>GH97</td>\n",
       "      <td>19</td>\n",
       "    </tr>\n",
       "    <tr>\n",
       "      <th>31</th>\n",
       "      <td>GH67</td>\n",
       "      <td>18</td>\n",
       "    </tr>\n",
       "    <tr>\n",
       "      <th>32</th>\n",
       "      <td>4.A.6</td>\n",
       "      <td>18</td>\n",
       "    </tr>\n",
       "    <tr>\n",
       "      <th>33</th>\n",
       "      <td>GH43_10</td>\n",
       "      <td>17</td>\n",
       "    </tr>\n",
       "    <tr>\n",
       "      <th>34</th>\n",
       "      <td>PL6</td>\n",
       "      <td>17</td>\n",
       "    </tr>\n",
       "    <tr>\n",
       "      <th>35</th>\n",
       "      <td>GH95</td>\n",
       "      <td>16</td>\n",
       "    </tr>\n",
       "    <tr>\n",
       "      <th>36</th>\n",
       "      <td>GH20</td>\n",
       "      <td>16</td>\n",
       "    </tr>\n",
       "    <tr>\n",
       "      <th>37</th>\n",
       "      <td>2.A.21</td>\n",
       "      <td>15</td>\n",
       "    </tr>\n",
       "    <tr>\n",
       "      <th>38</th>\n",
       "      <td>2.A.56</td>\n",
       "      <td>15</td>\n",
       "    </tr>\n",
       "    <tr>\n",
       "      <th>39</th>\n",
       "      <td>GH42</td>\n",
       "      <td>15</td>\n",
       "    </tr>\n",
       "  </tbody>\n",
       "</table>\n",
       "</div>"
      ],
      "text/plain": [
       "         Gene  Frequency\n",
       "0       3.A.1        215\n",
       "1      1.B.14        205\n",
       "2    HTH_AraC        100\n",
       "3      8.A.46         63\n",
       "4         GH2         58\n",
       "5        LacI         58\n",
       "6        CBM6         55\n",
       "7         GH3         52\n",
       "8        GH10         37\n",
       "9        GntR         36\n",
       "10      2.A.1         35\n",
       "11       GH16         34\n",
       "12       PfkB         32\n",
       "13      2.A.2         31\n",
       "14       GH28         31\n",
       "15      GH105         28\n",
       "16        GH9         26\n",
       "17  SBP_bac_1         25\n",
       "18       GH26         24\n",
       "19      PL1_2         24\n",
       "20        CE1         23\n",
       "21       GH18         23\n",
       "22       GH92         23\n",
       "23      GH130         21\n",
       "24    GH43_12         20\n",
       "25       GH51         20\n",
       "26        CE8         20\n",
       "27       CE12         20\n",
       "28       GH31         19\n",
       "29    GH43_29         19\n",
       "30       GH97         19\n",
       "31       GH67         18\n",
       "32      4.A.6         18\n",
       "33    GH43_10         17\n",
       "34        PL6         17\n",
       "35       GH95         16\n",
       "36       GH20         16\n",
       "37     2.A.21         15\n",
       "38     2.A.56         15\n",
       "39       GH42         15"
      ]
     },
     "execution_count": 115,
     "metadata": {},
     "output_type": "execute_result"
    }
   ],
   "source": [
    "gene_count_df.iloc[:max_features]"
   ]
  },
  {
   "cell_type": "code",
   "execution_count": 116,
   "id": "5db2e641",
   "metadata": {},
   "outputs": [],
   "source": [
    "from sklearn.feature_extraction.text import CountVectorizer"
   ]
  },
  {
   "cell_type": "code",
   "execution_count": 117,
   "id": "10a4ecb5",
   "metadata": {},
   "outputs": [],
   "source": [
    "# count_df.iloc[:-5]"
   ]
  },
  {
   "cell_type": "code",
   "execution_count": 118,
   "id": "3cd3df16",
   "metadata": {},
   "outputs": [],
   "source": [
    "data = data[data[\"high_level_substr\"].isin(count_df[\"High Level Substrate\"])]"
   ]
  },
  {
   "cell_type": "code",
   "execution_count": 119,
   "id": "fc269cee",
   "metadata": {},
   "outputs": [
    {
     "data": {
      "text/plain": [
       "(305, 6)"
      ]
     },
     "execution_count": 119,
     "metadata": {},
     "output_type": "execute_result"
    }
   ],
   "source": [
    "data.shape"
   ]
  },
  {
   "cell_type": "code",
   "execution_count": 120,
   "id": "fcc83760",
   "metadata": {},
   "outputs": [],
   "source": [
    "gene_seqs = [seq.replace(\"|\",\",\").split(\",\") for seq in data[\"sig_gene_seq\"]]"
   ]
  },
  {
   "cell_type": "code",
   "execution_count": 121,
   "id": "242b9088",
   "metadata": {},
   "outputs": [],
   "source": [
    "outer_catch = []\n",
    "for seq_list in gene_seqs:\n",
    "    inner_catch = []\n",
    "    for gene in seq_list:\n",
    "        inner_catch.append(gene)\n",
    "    outer_catch.append(\",\".join(inner_catch))"
   ]
  },
  {
   "cell_type": "code",
   "execution_count": 122,
   "id": "e63b638c",
   "metadata": {},
   "outputs": [],
   "source": [
    "data[\"sig_gene_seq\"] = outer_catch"
   ]
  },
  {
   "cell_type": "code",
   "execution_count": 123,
   "id": "365b69e3",
   "metadata": {},
   "outputs": [
    {
     "data": {
      "text/html": [
       "<div>\n",
       "<style scoped>\n",
       "    .dataframe tbody tr th:only-of-type {\n",
       "        vertical-align: middle;\n",
       "    }\n",
       "\n",
       "    .dataframe tbody tr th {\n",
       "        vertical-align: top;\n",
       "    }\n",
       "\n",
       "    .dataframe thead th {\n",
       "        text-align: right;\n",
       "    }\n",
       "</style>\n",
       "<table border=\"1\" class=\"dataframe\">\n",
       "  <thead>\n",
       "    <tr style=\"text-align: right;\">\n",
       "      <th></th>\n",
       "      <th>PULid</th>\n",
       "      <th>sig_gene_seq</th>\n",
       "      <th>high_level_substr</th>\n",
       "      <th>count</th>\n",
       "      <th>ID</th>\n",
       "      <th>Genera</th>\n",
       "    </tr>\n",
       "  </thead>\n",
       "  <tbody>\n",
       "    <tr>\n",
       "      <th>0</th>\n",
       "      <td>PUL0002</td>\n",
       "      <td>GH16</td>\n",
       "      <td>beta-glucan</td>\n",
       "      <td>44</td>\n",
       "      <td>PUL0002</td>\n",
       "      <td>Bacillus</td>\n",
       "    </tr>\n",
       "    <tr>\n",
       "      <th>1</th>\n",
       "      <td>PUL0011</td>\n",
       "      <td>GH48,GH8,GH9,CBM3,CBM4,GH9</td>\n",
       "      <td>beta-glucan</td>\n",
       "      <td>44</td>\n",
       "      <td>PUL0011</td>\n",
       "      <td>Ruminiclostridium</td>\n",
       "    </tr>\n",
       "    <tr>\n",
       "      <th>2</th>\n",
       "      <td>PUL0040</td>\n",
       "      <td>GH9,GH9,CBM3,GH5_17,GH9,PL11,GH5_1</td>\n",
       "      <td>beta-glucan</td>\n",
       "      <td>44</td>\n",
       "      <td>PUL0040</td>\n",
       "      <td>Ruminiclostridium</td>\n",
       "    </tr>\n",
       "    <tr>\n",
       "      <th>3</th>\n",
       "      <td>PUL0063</td>\n",
       "      <td>GH3,GH2,GH31,HTH_AraC,GH9,1.B.14,GH5_4,GH43_12...</td>\n",
       "      <td>beta-glucan</td>\n",
       "      <td>44</td>\n",
       "      <td>PUL0063</td>\n",
       "      <td>Bacteroides</td>\n",
       "    </tr>\n",
       "    <tr>\n",
       "      <th>4</th>\n",
       "      <td>PUL0064</td>\n",
       "      <td>1.B.14,GH5_4,Reg_prop,HTH_AraC,GH31,GH2,GH3</td>\n",
       "      <td>beta-glucan</td>\n",
       "      <td>44</td>\n",
       "      <td>PUL0064</td>\n",
       "      <td>Bacteroides</td>\n",
       "    </tr>\n",
       "  </tbody>\n",
       "</table>\n",
       "</div>"
      ],
      "text/plain": [
       "     PULid                                       sig_gene_seq  \\\n",
       "0  PUL0002                                               GH16   \n",
       "1  PUL0011                         GH48,GH8,GH9,CBM3,CBM4,GH9   \n",
       "2  PUL0040                 GH9,GH9,CBM3,GH5_17,GH9,PL11,GH5_1   \n",
       "3  PUL0063  GH3,GH2,GH31,HTH_AraC,GH9,1.B.14,GH5_4,GH43_12...   \n",
       "4  PUL0064        1.B.14,GH5_4,Reg_prop,HTH_AraC,GH31,GH2,GH3   \n",
       "\n",
       "  high_level_substr  count       ID             Genera  \n",
       "0       beta-glucan     44  PUL0002           Bacillus  \n",
       "1       beta-glucan     44  PUL0011  Ruminiclostridium  \n",
       "2       beta-glucan     44  PUL0040  Ruminiclostridium  \n",
       "3       beta-glucan     44  PUL0063        Bacteroides  \n",
       "4       beta-glucan     44  PUL0064        Bacteroides  "
      ]
     },
     "execution_count": 123,
     "metadata": {},
     "output_type": "execute_result"
    }
   ],
   "source": [
    "data.head()"
   ]
  },
  {
   "cell_type": "code",
   "execution_count": 124,
   "id": "2a8e425b",
   "metadata": {},
   "outputs": [],
   "source": [
    "count_vec = CountVectorizer(tokenizer=lambda x: str(x).split(','), lowercase = False)"
   ]
  },
  {
   "cell_type": "code",
   "execution_count": 125,
   "id": "a5f07f7c",
   "metadata": {},
   "outputs": [
    {
     "data": {
      "text/html": [
       "<style>#sk-container-id-1 {color: black;background-color: white;}#sk-container-id-1 pre{padding: 0;}#sk-container-id-1 div.sk-toggleable {background-color: white;}#sk-container-id-1 label.sk-toggleable__label {cursor: pointer;display: block;width: 100%;margin-bottom: 0;padding: 0.3em;box-sizing: border-box;text-align: center;}#sk-container-id-1 label.sk-toggleable__label-arrow:before {content: \"▸\";float: left;margin-right: 0.25em;color: #696969;}#sk-container-id-1 label.sk-toggleable__label-arrow:hover:before {color: black;}#sk-container-id-1 div.sk-estimator:hover label.sk-toggleable__label-arrow:before {color: black;}#sk-container-id-1 div.sk-toggleable__content {max-height: 0;max-width: 0;overflow: hidden;text-align: left;background-color: #f0f8ff;}#sk-container-id-1 div.sk-toggleable__content pre {margin: 0.2em;color: black;border-radius: 0.25em;background-color: #f0f8ff;}#sk-container-id-1 input.sk-toggleable__control:checked~div.sk-toggleable__content {max-height: 200px;max-width: 100%;overflow: auto;}#sk-container-id-1 input.sk-toggleable__control:checked~label.sk-toggleable__label-arrow:before {content: \"▾\";}#sk-container-id-1 div.sk-estimator input.sk-toggleable__control:checked~label.sk-toggleable__label {background-color: #d4ebff;}#sk-container-id-1 div.sk-label input.sk-toggleable__control:checked~label.sk-toggleable__label {background-color: #d4ebff;}#sk-container-id-1 input.sk-hidden--visually {border: 0;clip: rect(1px 1px 1px 1px);clip: rect(1px, 1px, 1px, 1px);height: 1px;margin: -1px;overflow: hidden;padding: 0;position: absolute;width: 1px;}#sk-container-id-1 div.sk-estimator {font-family: monospace;background-color: #f0f8ff;border: 1px dotted black;border-radius: 0.25em;box-sizing: border-box;margin-bottom: 0.5em;}#sk-container-id-1 div.sk-estimator:hover {background-color: #d4ebff;}#sk-container-id-1 div.sk-parallel-item::after {content: \"\";width: 100%;border-bottom: 1px solid gray;flex-grow: 1;}#sk-container-id-1 div.sk-label:hover label.sk-toggleable__label {background-color: #d4ebff;}#sk-container-id-1 div.sk-serial::before {content: \"\";position: absolute;border-left: 1px solid gray;box-sizing: border-box;top: 0;bottom: 0;left: 50%;z-index: 0;}#sk-container-id-1 div.sk-serial {display: flex;flex-direction: column;align-items: center;background-color: white;padding-right: 0.2em;padding-left: 0.2em;position: relative;}#sk-container-id-1 div.sk-item {position: relative;z-index: 1;}#sk-container-id-1 div.sk-parallel {display: flex;align-items: stretch;justify-content: center;background-color: white;position: relative;}#sk-container-id-1 div.sk-item::before, #sk-container-id-1 div.sk-parallel-item::before {content: \"\";position: absolute;border-left: 1px solid gray;box-sizing: border-box;top: 0;bottom: 0;left: 50%;z-index: -1;}#sk-container-id-1 div.sk-parallel-item {display: flex;flex-direction: column;z-index: 1;position: relative;background-color: white;}#sk-container-id-1 div.sk-parallel-item:first-child::after {align-self: flex-end;width: 50%;}#sk-container-id-1 div.sk-parallel-item:last-child::after {align-self: flex-start;width: 50%;}#sk-container-id-1 div.sk-parallel-item:only-child::after {width: 0;}#sk-container-id-1 div.sk-dashed-wrapped {border: 1px dashed gray;margin: 0 0.4em 0.5em 0.4em;box-sizing: border-box;padding-bottom: 0.4em;background-color: white;}#sk-container-id-1 div.sk-label label {font-family: monospace;font-weight: bold;display: inline-block;line-height: 1.2em;}#sk-container-id-1 div.sk-label-container {text-align: center;}#sk-container-id-1 div.sk-container {/* jupyter's `normalize.less` sets `[hidden] { display: none; }` but bootstrap.min.css set `[hidden] { display: none !important; }` so we also need the `!important` here to be able to override the default hidden behavior on the sphinx rendered scikit-learn.org. See: https://github.com/scikit-learn/scikit-learn/issues/21755 */display: inline-block !important;position: relative;}#sk-container-id-1 div.sk-text-repr-fallback {display: none;}</style><div id=\"sk-container-id-1\" class=\"sk-top-container\"><div class=\"sk-text-repr-fallback\"><pre>CountVectorizer(lowercase=False,\n",
       "                tokenizer=&lt;function &lt;lambda&gt; at 0x0000015BD1532E50&gt;)</pre><b>In a Jupyter environment, please rerun this cell to show the HTML representation or trust the notebook. <br />On GitHub, the HTML representation is unable to render, please try loading this page with nbviewer.org.</b></div><div class=\"sk-container\" hidden><div class=\"sk-item\"><div class=\"sk-estimator sk-toggleable\"><input class=\"sk-toggleable__control sk-hidden--visually\" id=\"sk-estimator-id-1\" type=\"checkbox\" checked><label for=\"sk-estimator-id-1\" class=\"sk-toggleable__label sk-toggleable__label-arrow\">CountVectorizer</label><div class=\"sk-toggleable__content\"><pre>CountVectorizer(lowercase=False,\n",
       "                tokenizer=&lt;function &lt;lambda&gt; at 0x0000015BD1532E50&gt;)</pre></div></div></div></div></div>"
      ],
      "text/plain": [
       "CountVectorizer(lowercase=False,\n",
       "                tokenizer=<function <lambda> at 0x0000015BD1532E50>)"
      ]
     },
     "execution_count": 125,
     "metadata": {},
     "output_type": "execute_result"
    }
   ],
   "source": [
    "count_vec.fit(data[\"sig_gene_seq\"].values)"
   ]
  },
  {
   "cell_type": "code",
   "execution_count": 126,
   "id": "10211a8c",
   "metadata": {},
   "outputs": [
    {
     "data": {
      "text/plain": [
       "319"
      ]
     },
     "execution_count": 126,
     "metadata": {},
     "output_type": "execute_result"
    }
   ],
   "source": [
    "len(count_vec.vocabulary_)"
   ]
  },
  {
   "cell_type": "code",
   "execution_count": 127,
   "id": "8990dfae",
   "metadata": {},
   "outputs": [],
   "source": [
    "count_vec_vocab = pd.DataFrame(count_vec.vocabulary_, index = [0]).T.reset_index()"
   ]
  },
  {
   "cell_type": "code",
   "execution_count": 128,
   "id": "3c7099c1",
   "metadata": {},
   "outputs": [],
   "source": [
    "count_vec_vocab.columns = [\"Gene\", \"Index\"]"
   ]
  },
  {
   "cell_type": "code",
   "execution_count": 129,
   "id": "4383d491",
   "metadata": {},
   "outputs": [
    {
     "data": {
      "text/html": [
       "<div>\n",
       "<style scoped>\n",
       "    .dataframe tbody tr th:only-of-type {\n",
       "        vertical-align: middle;\n",
       "    }\n",
       "\n",
       "    .dataframe tbody tr th {\n",
       "        vertical-align: top;\n",
       "    }\n",
       "\n",
       "    .dataframe thead th {\n",
       "        text-align: right;\n",
       "    }\n",
       "</style>\n",
       "<table border=\"1\" class=\"dataframe\">\n",
       "  <thead>\n",
       "    <tr style=\"text-align: right;\">\n",
       "      <th></th>\n",
       "      <th>Gene</th>\n",
       "      <th>Index</th>\n",
       "    </tr>\n",
       "  </thead>\n",
       "  <tbody>\n",
       "    <tr>\n",
       "      <th>0</th>\n",
       "      <td>GH16</td>\n",
       "      <td>145</td>\n",
       "    </tr>\n",
       "    <tr>\n",
       "      <th>1</th>\n",
       "      <td>GH48</td>\n",
       "      <td>195</td>\n",
       "    </tr>\n",
       "    <tr>\n",
       "      <th>2</th>\n",
       "      <td>GH8</td>\n",
       "      <td>220</td>\n",
       "    </tr>\n",
       "    <tr>\n",
       "      <th>3</th>\n",
       "      <td>GH9</td>\n",
       "      <td>224</td>\n",
       "    </tr>\n",
       "    <tr>\n",
       "      <th>4</th>\n",
       "      <td>CBM3</td>\n",
       "      <td>66</td>\n",
       "    </tr>\n",
       "    <tr>\n",
       "      <th>...</th>\n",
       "      <td>...</td>\n",
       "      <td>...</td>\n",
       "    </tr>\n",
       "    <tr>\n",
       "      <th>314</th>\n",
       "      <td>GH68</td>\n",
       "      <td>215</td>\n",
       "    </tr>\n",
       "    <tr>\n",
       "      <th>315</th>\n",
       "      <td>9.B.18</td>\n",
       "      <td>49</td>\n",
       "    </tr>\n",
       "    <tr>\n",
       "      <th>316</th>\n",
       "      <td>PL12_3</td>\n",
       "      <td>268</td>\n",
       "    </tr>\n",
       "    <tr>\n",
       "      <th>317</th>\n",
       "      <td>8.A.3</td>\n",
       "      <td>39</td>\n",
       "    </tr>\n",
       "    <tr>\n",
       "      <th>318</th>\n",
       "      <td>1.B.18</td>\n",
       "      <td>6</td>\n",
       "    </tr>\n",
       "  </tbody>\n",
       "</table>\n",
       "<p>319 rows × 2 columns</p>\n",
       "</div>"
      ],
      "text/plain": [
       "       Gene  Index\n",
       "0      GH16    145\n",
       "1      GH48    195\n",
       "2       GH8    220\n",
       "3       GH9    224\n",
       "4      CBM3     66\n",
       "..      ...    ...\n",
       "314    GH68    215\n",
       "315  9.B.18     49\n",
       "316  PL12_3    268\n",
       "317   8.A.3     39\n",
       "318  1.B.18      6\n",
       "\n",
       "[319 rows x 2 columns]"
      ]
     },
     "execution_count": 129,
     "metadata": {},
     "output_type": "execute_result"
    }
   ],
   "source": [
    "count_vec_vocab"
   ]
  },
  {
   "cell_type": "code",
   "execution_count": 130,
   "id": "f09c1426",
   "metadata": {},
   "outputs": [],
   "source": [
    "count_vec_vocab = count_vec_vocab.sort_values(\"Index\").reset_index(drop = True)"
   ]
  },
  {
   "cell_type": "code",
   "execution_count": 131,
   "id": "f730d381",
   "metadata": {},
   "outputs": [],
   "source": [
    "count_vec_vocab = count_vec_vocab.merge(sig_gene.drop_duplicates(\"Gene\"), how = \"inner\", on = \"Gene\").sort_values(\"Index\").reset_index(drop = True)"
   ]
  },
  {
   "cell_type": "code",
   "execution_count": 132,
   "id": "80a0955a",
   "metadata": {},
   "outputs": [
    {
     "data": {
      "text/plain": [
       "(306, 3)"
      ]
     },
     "execution_count": 132,
     "metadata": {},
     "output_type": "execute_result"
    }
   ],
   "source": [
    "count_vec_vocab.shape"
   ]
  },
  {
   "cell_type": "code",
   "execution_count": 133,
   "id": "80d69cc6",
   "metadata": {},
   "outputs": [
    {
     "data": {
      "text/plain": [
       "{'8.A.49',\n",
       " 'CBM82',\n",
       " 'CBM83',\n",
       " 'CE10',\n",
       " 'GH150',\n",
       " 'GH157',\n",
       " 'GH5_42',\n",
       " 'GH96',\n",
       " 'PL12_2',\n",
       " 'PL15_1',\n",
       " 'PL15_2',\n",
       " 'PL18',\n",
       " 'PRD_Mga'}"
      ]
     },
     "execution_count": 133,
     "metadata": {},
     "output_type": "execute_result"
    }
   ],
   "source": [
    "set(count_vec.vocabulary_).difference(sig_gene[\"Gene\"].values)"
   ]
  },
  {
   "cell_type": "code",
   "execution_count": 134,
   "id": "31d15c87",
   "metadata": {},
   "outputs": [],
   "source": [
    "missing_mapping = {'8.A.49': \"TC\",\n",
    " 'CBM82': \"CAZyme\",\n",
    " 'CBM83': \"CAZyme\",\n",
    " 'CE10': \"CAZyme\",\n",
    " 'GH150': \"CAZyme\",\n",
    " 'GH157': \"CAZyme\",\n",
    " 'GH5_42': \"CAZyme\",\n",
    " 'GH96': \"CAZyme\",\n",
    " 'PL12_2': \"CAZyme\",\n",
    " 'PL15_1': \"CAZyme\",\n",
    " 'PL15_2': \"CAZyme\",\n",
    " 'PL18': \"CAZyme\",\n",
    " 'PRD_Mga': \"CAZyme\"}"
   ]
  },
  {
   "cell_type": "code",
   "execution_count": 135,
   "id": "7cf426d4",
   "metadata": {},
   "outputs": [],
   "source": [
    "missing_mapping = pd.DataFrame(missing_mapping, index = [0])"
   ]
  },
  {
   "cell_type": "code",
   "execution_count": 136,
   "id": "2c6e19e5",
   "metadata": {},
   "outputs": [],
   "source": [
    "missing_mapping = missing_mapping.T.reset_index()"
   ]
  },
  {
   "cell_type": "code",
   "execution_count": 137,
   "id": "5ba04c0a",
   "metadata": {},
   "outputs": [],
   "source": [
    "missing_mapping.columns = [ \"Gene\", \"Gene_Type\"]"
   ]
  },
  {
   "cell_type": "code",
   "execution_count": 138,
   "id": "e303c34e",
   "metadata": {},
   "outputs": [],
   "source": [
    "sig_gene = pd.concat([missing_mapping, sig_gene], 0, ignore_index = True)"
   ]
  },
  {
   "cell_type": "code",
   "execution_count": 139,
   "id": "e58e0053",
   "metadata": {},
   "outputs": [
    {
     "data": {
      "text/plain": [
       "(1260, 2)"
      ]
     },
     "execution_count": 139,
     "metadata": {},
     "output_type": "execute_result"
    }
   ],
   "source": [
    "sig_gene.shape"
   ]
  },
  {
   "cell_type": "code",
   "execution_count": 140,
   "id": "04456701",
   "metadata": {},
   "outputs": [
    {
     "data": {
      "text/html": [
       "<div>\n",
       "<style scoped>\n",
       "    .dataframe tbody tr th:only-of-type {\n",
       "        vertical-align: middle;\n",
       "    }\n",
       "\n",
       "    .dataframe tbody tr th {\n",
       "        vertical-align: top;\n",
       "    }\n",
       "\n",
       "    .dataframe thead th {\n",
       "        text-align: right;\n",
       "    }\n",
       "</style>\n",
       "<table border=\"1\" class=\"dataframe\">\n",
       "  <thead>\n",
       "    <tr style=\"text-align: right;\">\n",
       "      <th></th>\n",
       "      <th>Gene</th>\n",
       "      <th>Gene_Type</th>\n",
       "    </tr>\n",
       "  </thead>\n",
       "  <tbody>\n",
       "    <tr>\n",
       "      <th>8</th>\n",
       "      <td>PL12_2</td>\n",
       "      <td>CAZyme</td>\n",
       "    </tr>\n",
       "    <tr>\n",
       "      <th>9</th>\n",
       "      <td>PL15_1</td>\n",
       "      <td>CAZyme</td>\n",
       "    </tr>\n",
       "    <tr>\n",
       "      <th>10</th>\n",
       "      <td>PL15_2</td>\n",
       "      <td>CAZyme</td>\n",
       "    </tr>\n",
       "    <tr>\n",
       "      <th>11</th>\n",
       "      <td>PL18</td>\n",
       "      <td>CAZyme</td>\n",
       "    </tr>\n",
       "    <tr>\n",
       "      <th>437</th>\n",
       "      <td>PL0</td>\n",
       "      <td>CAZyme</td>\n",
       "    </tr>\n",
       "    <tr>\n",
       "      <th>...</th>\n",
       "      <td>...</td>\n",
       "      <td>...</td>\n",
       "    </tr>\n",
       "    <tr>\n",
       "      <th>506</th>\n",
       "      <td>PL8_3</td>\n",
       "      <td>CAZyme</td>\n",
       "    </tr>\n",
       "    <tr>\n",
       "      <th>507</th>\n",
       "      <td>PL9</td>\n",
       "      <td>CAZyme</td>\n",
       "    </tr>\n",
       "    <tr>\n",
       "      <th>508</th>\n",
       "      <td>PL9_1</td>\n",
       "      <td>CAZyme</td>\n",
       "    </tr>\n",
       "    <tr>\n",
       "      <th>509</th>\n",
       "      <td>PL9_2</td>\n",
       "      <td>CAZyme</td>\n",
       "    </tr>\n",
       "    <tr>\n",
       "      <th>510</th>\n",
       "      <td>PL9_4</td>\n",
       "      <td>CAZyme</td>\n",
       "    </tr>\n",
       "  </tbody>\n",
       "</table>\n",
       "<p>78 rows × 2 columns</p>\n",
       "</div>"
      ],
      "text/plain": [
       "       Gene Gene_Type\n",
       "8    PL12_2    CAZyme\n",
       "9    PL15_1    CAZyme\n",
       "10   PL15_2    CAZyme\n",
       "11     PL18    CAZyme\n",
       "437     PL0    CAZyme\n",
       "..      ...       ...\n",
       "506   PL8_3    CAZyme\n",
       "507     PL9    CAZyme\n",
       "508   PL9_1    CAZyme\n",
       "509   PL9_2    CAZyme\n",
       "510   PL9_4    CAZyme\n",
       "\n",
       "[78 rows x 2 columns]"
      ]
     },
     "execution_count": 140,
     "metadata": {},
     "output_type": "execute_result"
    }
   ],
   "source": [
    "sig_gene[sig_gene.Gene.str.startswith('PL', na=False)]"
   ]
  },
  {
   "cell_type": "code",
   "execution_count": 141,
   "id": "26bfd7e2",
   "metadata": {},
   "outputs": [],
   "source": [
    "import tensorflow as tf"
   ]
  },
  {
   "cell_type": "code",
   "execution_count": 142,
   "id": "49cebc2d",
   "metadata": {},
   "outputs": [],
   "source": [
    "temp_data = data.copy()"
   ]
  },
  {
   "cell_type": "code",
   "execution_count": 143,
   "id": "b65383f3",
   "metadata": {},
   "outputs": [],
   "source": [
    "temp_data[\"sig_gene_seq\"] = [seq.replace(\"|\", \",\").replace(\",\", \" \") for seq in temp_data[\"sig_gene_seq\"] ]"
   ]
  },
  {
   "cell_type": "code",
   "execution_count": 144,
   "id": "1265374a",
   "metadata": {},
   "outputs": [],
   "source": [
    "outer_catch = []\n",
    "for seq in temp_data[\"sig_gene_seq\"]:\n",
    "    inner_catch = []\n",
    "    for gene in seq.split(\" \"):\n",
    "        items = gene.split(\"_\")\n",
    "        if len(items) == 2: \n",
    "            if items[1].isdigit():\n",
    "                inner_catch.append(items[0])\n",
    "            else: \n",
    "                inner_catch.append(gene)      \n",
    "        else: \n",
    "            inner_catch.append(gene)\n",
    "    outer_catch.append(\" \".join(inner_catch))\n",
    "    "
   ]
  },
  {
   "cell_type": "code",
   "execution_count": 145,
   "id": "b2d9d881",
   "metadata": {},
   "outputs": [],
   "source": [
    "temp_data[\"sig_gene_seq\"] = outer_catch"
   ]
  },
  {
   "cell_type": "code",
   "execution_count": 146,
   "id": "cbf005cb",
   "metadata": {},
   "outputs": [],
   "source": [
    "def make_heatmaps(gene_type, vectorization_type, figsize = (15, 5)):\n",
    "    temp1 = temp_data.copy()\n",
    "    # select the genes first\n",
    "    selected_genes = sig_gene[sig_gene[\"Gene_Type\"] == gene_type]\n",
    "    vocabulary = selected_genes[\"Gene\"].values\n",
    "    \n",
    "    removed_catch = []\n",
    "    for seq in temp1[\"sig_gene_seq\"]: \n",
    "        removed_catch.append(\" \".join([gene for gene in seq.split(\" \") if gene in vocabulary]))\n",
    "    \n",
    "    temp1[\"sig_gene_seq\"] = removed_catch\n",
    "    \n",
    "    \n",
    "    current_all_genes = [gene for seq in temp1[\"sig_gene_seq\"] for gene in seq.split(\" \")]\n",
    "    \n",
    "    \n",
    "    vocabulary = list(set(current_all_genes).intersection(vocabulary))\n",
    "    \n",
    "    \n",
    "    # instantiate the text vectorization layer\n",
    "    text_vec = tf.keras.layers.TextVectorization(standardize=None, output_mode = vectorization_type, \n",
    "                                                vocabulary =vocabulary)\n",
    "    \n",
    "    transformed_seqs = text_vec(temp1[\"sig_gene_seq\"])\n",
    "    transformed_gene_seqs_df = pd.DataFrame(transformed_seqs)\n",
    "    transformed_gene_seqs_df = transformed_gene_seqs_df.iloc[:,1:]\n",
    "    transformed_gene_seqs_df.columns = vocabulary\n",
    "    transformed_gene_seqs_df[\"high_level_substr\"] = temp_data[[\"high_level_substr\"]].values\n",
    "    heatmap = transformed_gene_seqs_df.groupby(\"high_level_substr\").sum()\n",
    "    heatmap = heatmap.reindex(sorted(heatmap.columns), axis=1)\n",
    "    fig = plt.figure(figsize = figsize)\n",
    "    fig = sns.heatmap(heatmap,cbar_kws={'label': 'Number of PULs'})\n",
    "    cbar_axes = fig.figure.axes[-1]\n",
    "    plt.xlabel(gene_type + \"_\" + \"Genes\", weight = \"bold\", fontsize = 20)\n",
    "    plt.ylabel(\"High level substrates\", weight = \"bold\", fontsize = 20)\n",
    "    fig.figure.axes[-1].yaxis.label.set_size(20)\n",
    "    return fig"
   ]
  },
  {
   "cell_type": "code",
   "execution_count": 147,
   "id": "3ebc0428",
   "metadata": {},
   "outputs": [
    {
     "data": {
      "image/png": "[encoded data removed]",
      "text/plain": [
       "<Figure size 1080x360 with 2 Axes>"
      ]
     },
     "metadata": {
      "needs_background": "light"
     },
     "output_type": "display_data"
    }
   ],
   "source": [
    "# plt.figure(figsize = (10, 5))\n",
    "make_heatmaps(\"CAZyme\", \"multi_hot\", (15,5))\n",
    "plt.show()"
   ]
  },
  {
   "cell_type": "code",
   "execution_count": 148,
   "id": "64c3335d",
   "metadata": {},
   "outputs": [
    {
     "data": {
      "image/png": "[encoded data removed]",
      "text/plain": [
       "<Figure size 720x360 with 2 Axes>"
      ]
     },
     "metadata": {
      "needs_background": "light"
     },
     "output_type": "display_data"
    }
   ],
   "source": [
    "# plt.figure(figsize = (10, 5))\n",
    "make_heatmaps(\"TC\", \"multi_hot\", (10,5))\n",
    "plt.show()"
   ]
  },
  {
   "cell_type": "code",
   "execution_count": 149,
   "id": "41a4343d",
   "metadata": {},
   "outputs": [
    {
     "data": {
      "image/png": "[encoded data removed]",
      "text/plain": [
       "<Figure size 720x360 with 2 Axes>"
      ]
     },
     "metadata": {
      "needs_background": "light"
     },
     "output_type": "display_data"
    }
   ],
   "source": [
    "# plt.figure(figsize = (10, 5))\n",
    "make_heatmaps(\"STP\", \"multi_hot\", (10,5))\n",
    "plt.show()"
   ]
  },
  {
   "cell_type": "code",
   "execution_count": 150,
   "id": "dfac27d1",
   "metadata": {},
   "outputs": [
    {
     "data": {
      "image/png": "[encoded data removed]",
      "text/plain": [
       "<Figure size 432x288 with 2 Axes>"
      ]
     },
     "metadata": {
      "needs_background": "light"
     },
     "output_type": "display_data"
    }
   ],
   "source": [
    "# plt.figure(figsize = (10, 5))\n",
    "make_heatmaps(\"TF\", \"multi_hot\", None)\n",
    "plt.show()"
   ]
  },
  {
   "cell_type": "code",
   "execution_count": 151,
   "id": "6ddf8fc1",
   "metadata": {},
   "outputs": [],
   "source": [
    "# import matplotlib.pyplot as plt\n",
    "# from matplotlib.ticker import FixedLocator"
   ]
  },
  {
   "cell_type": "code",
   "execution_count": 152,
   "id": "d98fdf23",
   "metadata": {
    "scrolled": false
   },
   "outputs": [],
   "source": [
    "# fig, ax = plt.subplots(figsize=(15,10))    \n",
    "# ax = sns.heatmap(heatmap[heatmap.columns[1:]])\n",
    "# # plt.figure(figsize = (30,10))\n",
    "# ax.xaxis.tick_top()\n",
    "# ticks = []\n",
    "# labels = []\n",
    "# prev_label = None\n",
    "# for i, label in enumerate(heatmap['high_level_substr']):\n",
    "#     if label != prev_label:\n",
    "#         ticks.append(i)\n",
    "#         labels.append(label)\n",
    "#         prev_label = label\n",
    "# ticks.append(i + 1)\n",
    "# ax.yaxis.set_minor_locator(FixedLocator(ticks))\n",
    "# ax.yaxis.set_major_locator(FixedLocator([(t0 + t1) / 2 for t0, t1 in zip(ticks[:-1], ticks[1:])]))\n",
    "# ax.set_yticklabels(labels, rotation=0)\n",
    "# ax.tick_params(axis='both', which='major', length=0)\n",
    "# ax.tick_params(axis='y', which='minor', length=250)\n",
    "# plt.xticks(rotation=90, fontsize = 15)\n",
    "# plt.yticks(fontsize = 12)\n",
    "# plt.tight_layout()\n",
    "# # ax.tick_params(labelsize=20) \n",
    "# # plt.colorbar().set_label(label='a label',size=15,weight='bold')\n",
    "# plt.show()"
   ]
  }
 ],
 "metadata": {
  "kernelspec": {
   "display_name": "newone1",
   "language": "python",
   "name": "newone1"
  },
  "language_info": {
   "codemirror_mode": {
    "name": "ipython",
    "version": 3
   },
   "file_extension": ".py",
   "mimetype": "text/x-python",
   "name": "python",
   "nbconvert_exporter": "python",
   "pygments_lexer": "ipython3",
   "version": "3.9.12"
  }
 },
 "nbformat": 4,
 "nbformat_minor": 5
}
