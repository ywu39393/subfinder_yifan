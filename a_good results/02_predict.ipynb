{
 "cells": [
  {
   "cell_type": "code",
   "execution_count": 1,
   "id": "85132297-2a39-44de-9758-0bd0dfdd10b6",
   "metadata": {},
   "outputs": [],
   "source": [
    "import pandas as pd\n",
    "import numpy as np\n",
    "from tensorflow.keras.models import load_model\n",
    "import joblib\n",
    "import os"
   ]
  },
  {
   "cell_type": "code",
   "execution_count": 2,
   "id": "5b3b0183-b468-4144-bc8e-a6e7681baffd",
   "metadata": {},
   "outputs": [],
   "source": [
    "def mc_dropout_predictions_class(model, inputs, label_encoder, n_samples=200):\n",
    "    predictions = []\n",
    "    for _ in range(n_samples):\n",
    "        pred_output = model(inputs, training=True)  # Dropout active during inference\n",
    "        pred_output = pred_output.numpy().argmax(1)\n",
    "        pred_classes = label_encoder.inverse_transform(pred_output)  # Decode predicted classes\n",
    "        predictions.append(pred_classes)\n",
    "        \n",
    "    predictions = np.stack(predictions)\n",
    "    return predictions\n"
   ]
  },
  {
   "cell_type": "code",
   "execution_count": 3,
   "id": "4b6c8768-1c10-41f1-9e51-0f7e4b3d87b8",
   "metadata": {},
   "outputs": [],
   "source": [
    "# Load the saved model\n",
    "model_dl = load_model('trained_model.h5')\n",
    "le = joblib.load('label_encoder.pkl')"
   ]
  },
  {
   "cell_type": "code",
   "execution_count": 4,
   "id": "c43d1af9-d5dd-4683-980b-fd097df3755f",
   "metadata": {},
   "outputs": [],
   "source": [
    "############################################\n",
    "#Import all csv file under Train_data folder\n",
    "############################################\n",
    "\n",
    "folder_path = \"cgc_input_reformat\"\n",
    "# List to hold DataFrames\n",
    "dataframes = []\n",
    "# Loop through all files in the folder\n",
    "for filename in os.listdir(folder_path):\n",
    "    if filename.endswith(\".csv\"):\n",
    "        file_path = os.path.join(folder_path, filename)\n",
    "        df = pd.read_csv(file_path)\n",
    "        dataframes.append(df)\n",
    "\n",
    "combined_data = pd.concat(dataframes, ignore_index=True)\n",
    "combined_data.to_csv('combined_predict_data.csv', index=False)\n",
    "file_path = os.path.join('combined_predict_data.csv')\n",
    "data = pd.read_csv(file_path)"
   ]
  },
  {
   "cell_type": "code",
   "execution_count": 5,
   "id": "535ed079-40db-41e6-854b-68c220d8c431",
   "metadata": {},
   "outputs": [],
   "source": [
    "test_seqs = np.array([test_item.replace(\"|\", \",\").replace(\",\", \" \") for test_item in data[\"sequence\"].values])\n",
    "test_seqs2 = test_seqs[0:10]\n",
    "test_seqs2.shape\n",
    "label = data['cgc_id'][0:10]\n"
   ]
  },
  {
   "cell_type": "code",
   "execution_count": 6,
   "id": "b45033ac-505f-4518-846c-2d6c45aec9df",
   "metadata": {},
   "outputs": [],
   "source": [
    "result = mc_dropout_predictions_class(model_dl, test_seqs2, le)"
   ]
  },
  {
   "cell_type": "code",
   "execution_count": 7,
   "id": "eb7bb38b-6af7-4db3-8388-3ebd85a89a78",
   "metadata": {},
   "outputs": [],
   "source": [
    "t_result = result.T"
   ]
  },
  {
   "cell_type": "code",
   "execution_count": 8,
   "id": "f141bf28-efdd-46f9-ba33-2ef457b58d9e",
   "metadata": {},
   "outputs": [],
   "source": [
    "unique_numbers = np.unique(t_result)  # Get the unique numbers in the array\n",
    "\n",
    "# Initialize an empty array to store the counts\n",
    "counts_by_row = np.zeros((t_result.shape[0], len(unique_numbers)), dtype=int)\n",
    "\n",
    "# Iterate over each row and count the occurrences of each unique number\n",
    "for i, row in enumerate(t_result):\n",
    "    counts = np.array([np.sum(row == num) for num in unique_numbers])\n",
    "    counts_by_row[i] = counts\n",
    "\n",
    "result = pd.DataFrame(counts_by_row, columns = unique_numbers)\n",
    "result.insert(0, 'ID', label)"
   ]
  },
  {
   "cell_type": "code",
   "execution_count": 9,
   "id": "39ff205f-78b7-4176-ae35-efac6d1a9940",
   "metadata": {},
   "outputs": [],
   "source": [
    "column_name = result.columns.values[1:]"
   ]
  },
  {
   "cell_type": "code",
   "execution_count": 10,
   "id": "9307f628-414d-41e4-a95d-fd3e0475845b",
   "metadata": {},
   "outputs": [],
   "source": [
    "result_melt = pd.melt(result, id_vars='ID', value_vars=column_name, var_name = 'substrate', value_name = 'p-value')"
   ]
  },
  {
   "cell_type": "code",
   "execution_count": 11,
   "id": "20c7cde9-fa2d-4125-b186-e28507d55c56",
   "metadata": {},
   "outputs": [],
   "source": [
    "result_melt['p-value'] = result_melt['p-value']/200"
   ]
  },
  {
   "cell_type": "code",
   "execution_count": 12,
   "id": "d6c61fb3-6251-4fec-a511-ee83d0ec6ce4",
   "metadata": {},
   "outputs": [],
   "source": [
    "result_melt_sort = result_melt.sort_values(by=['ID', 'p-value'], ascending = False)"
   ]
  },
  {
   "cell_type": "code",
   "execution_count": 13,
   "id": "d9119bd6-8488-40b2-b876-93db093da15a",
   "metadata": {},
   "outputs": [],
   "source": [
    "result_melt_sort = result_melt_sort[['substrate', 'ID', 'p-value']]\n",
    "result_melt_sort = result_melt_sort[~(result_melt_sort['p-value'] == 0)]"
   ]
  },
  {
   "cell_type": "code",
   "execution_count": 57,
   "id": "f4522955-3d63-4380-b3e7-8cd15780ce43",
   "metadata": {},
   "outputs": [],
   "source": [
    "result_melt_sort.to_csv('predictions_counts.csv', index=False)"
   ]
  }
 ],
 "metadata": {
  "kernelspec": {
   "display_name": "DKL",
   "language": "python",
   "name": "dkl"
  },
  "language_info": {
   "codemirror_mode": {
    "name": "ipython",
    "version": 3
   },
   "file_extension": ".py",
   "mimetype": "text/x-python",
   "name": "python",
   "nbconvert_exporter": "python",
   "pygments_lexer": "ipython3",
   "version": "3.9.13"
  }
 },
 "nbformat": 4,
 "nbformat_minor": 5
}
